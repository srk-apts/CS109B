{
 "cells": [
  {
   "cell_type": "markdown",
   "metadata": {},
   "source": [
    "# <img style=\"float: left; padding-right: 10px; width: 45px\" src=\"https://raw.githubusercontent.com/Harvard-IACS/2018-CS109A/master/content/styles/iacs.png\"> CS109B Data Science 2: Advanced Topics in Data Science \n",
    "## Homework 4 - Advanced Section - Reservoir Computing\n",
    "\n",
    "\n",
    "\n",
    "**Harvard University**<br/>\n",
    "**Spring 2019**<br/>\n",
    "**Instructors**: Mark Glickman and Pavlos Protopapas \n",
    "\n",
    "\n",
    "<hr style=\"height:2pt\">"
   ]
  },
  {
   "cell_type": "code",
   "execution_count": 1,
   "metadata": {},
   "outputs": [
    {
     "data": {
      "text/html": [
       "<style>\n",
       "blockquote { background: #AEDE94; }\n",
       "h1 { \n",
       "    padding-top: 25px;\n",
       "    padding-bottom: 25px;\n",
       "    text-align: left; \n",
       "    padding-left: 10px;\n",
       "    background-color: #DDDDDD; \n",
       "    color: black;\n",
       "}\n",
       "h2 { \n",
       "    padding-top: 10px;\n",
       "    padding-bottom: 10px;\n",
       "    text-align: left; \n",
       "    padding-left: 5px;\n",
       "    background-color: #EEEEEE; \n",
       "    color: black;\n",
       "}\n",
       "\n",
       "div.exercise {\n",
       "\tbackground-color: #ffcccc;\n",
       "\tborder-color: #E9967A; \t\n",
       "\tborder-left: 5px solid #800080; \n",
       "\tpadding: 0.5em;\n",
       "}\n",
       "\n",
       "span.sub-q {\n",
       "\tfont-weight: bold;\n",
       "}\n",
       "div.theme {\n",
       "\tbackground-color: #DDDDDD;\n",
       "\tborder-color: #E9967A; \t\n",
       "\tborder-left: 5px solid #800080; \n",
       "\tpadding: 0.5em;\n",
       "\tfont-size: 18pt;\n",
       "}\n",
       "div.gc { \n",
       "\tbackground-color: #AEDE94;\n",
       "\tborder-color: #E9967A; \t \n",
       "\tborder-left: 5px solid #800080; \n",
       "\tpadding: 0.5em;\n",
       "\tfont-size: 12pt;\n",
       "}\n",
       "p.q1 { \n",
       "    padding-top: 5px;\n",
       "    padding-bottom: 5px;\n",
       "    text-align: left; \n",
       "    padding-left: 5px;\n",
       "    background-color: #EEEEEE; \n",
       "    color: black;\n",
       "}\n",
       "header {\n",
       "   padding-top: 35px;\n",
       "    padding-bottom: 35px;\n",
       "    text-align: left; \n",
       "    padding-left: 10px;\n",
       "    background-color: #DDDDDD; \n",
       "    color: black;\n",
       "}\n",
       "</style>\n",
       "\n"
      ],
      "text/plain": [
       "<IPython.core.display.HTML object>"
      ]
     },
     "execution_count": 1,
     "metadata": {},
     "output_type": "execute_result"
    }
   ],
   "source": [
    "#RUN THIS CELL \n",
    "import requests\n",
    "from IPython.core.display import HTML\n",
    "styles = requests.get(\"https://raw.githubusercontent.com/Harvard-IACS/2018-CS109A/master/content/styles/cs109.css\").text\n",
    "HTML(styles)"
   ]
  },
  {
   "cell_type": "markdown",
   "metadata": {},
   "source": [
    "### INSTRUCTIONS\n",
    "\n",
    "- To submit your assignment follow the instructions given in Canvas.\n",
    "\n",
    "- Please restart the kernel and run the entire notebook again before you submit."
   ]
  },
  {
   "cell_type": "markdown",
   "metadata": {},
   "source": [
    "### Overview\n",
    "We discussed in class the formulation of the Reservoir Computing (RC) RNN. As an example, we saw the RC implementation in time series for the Mackey-Glass chaotic system. This example can be found in the seminal paper: http://www.rctn.org/vs265/jaeger04-ESN.pdf; we encourage you to read this publication.\n",
    "\n",
    "\n",
    "In this HW, for the implementation of the RC you have to use the library \"pyESN\" which is available in https://github.com/cknd/pyESN. In the same directory, you can find the Mackey-Glass example that was discussed in the class. We encourage you to explore this library.\n",
    "\n",
    "You have to employ the RC network to predict stock market prices. We provide you a time series for the daily Amazon stock price (file: \"amazon.txt\"). \n",
    "You need to study the Mackey-Glass example (mackey.ipynb) and then apply the RC for predicting the Amazon price.\n",
    "\n",
    "You can observe that the input is a vetor of ones, so there is not input function. In this case the prediction is not a response to the previous signal. Essentially, the network is learning the pattern of the history (training set) and trying to make predictions based on that. That approach works pretty well because RC prerforms well in pattern recognition and analysis tasks.\n",
    "\n",
    "\n",
    "You have to predict 100 future time points by using the previous 1500 prices. As we discussed in the class RC is very sensitive to the hyper-parameter. So, you have to find the optimal set of hyper-parameter that gives the best predictions. For convenience, we are asking you to optimize just two of the hyper-parameter, the spectrum radius  and a regularization term (noise); this regularization is different that the one that was discussed in the class. In particular, it adds noise in the hidden units to avoid the overfitting during the learning. The rest hyper-parameters are given.\n",
    "\n",
    "The goals of this homework are for you to:\n",
    "1. learn the mechanics of RC\n",
    "2. confirm that RC training is fast\n",
    "3. learn how to use RC for forecasting\n",
    "4. acknowledge that RC is sensitive to hyper-parameters (no free lunch)\n",
    "5. learn how to optimize hyper-parameters of RC\n",
    "6. evaluate RC forecasting"
   ]
  },
  {
   "cell_type": "markdown",
   "metadata": {},
   "source": [
    "### Overview for the pyESN library for the RC implementation\n",
    "\n",
    "\n",
    "#### You call the RC as:\n",
    "esn = ESN(n_inputs = 1, <br>\n",
    " $\\quad$ $\\quad$     n_outputs = #, <br>\n",
    " $\\quad$ $\\quad$     n_reservoir = #,<br>\n",
    " $\\quad$ $\\quad$     sparsity= #,<br>\n",
    " $\\quad$ $\\quad$     random_state= #, <br>\n",
    " $\\quad$ $\\quad$     spectral_radius = #,<br>\n",
    " $\\quad$ $\\quad$     noise= #)\n",
    "<br> where # denotes the value that you choose.\n",
    "\n",
    "##### Brief explanation of the parameters:\n",
    "n_inputs: number of input dimensions <br>\n",
    "n_outputs: numberr of output dimensions <br>\n",
    "n_reservoir: number of reservoir neurons <br> \n",
    "random_state: seed for the random generator<br>\n",
    "sparsity: proportion of recurrent weights set to zero <br>\n",
    "spectral_radius: spectral radius of the recurrent weight matrix <br>\n",
    "noise: noise added to each neuron (regularization) <br>\n"
   ]
  },
  {
   "cell_type": "code",
   "execution_count": 2,
   "metadata": {
    "collapsed": true
   },
   "outputs": [],
   "source": [
    "import numpy as np\n",
    "from matplotlib import pyplot as plt\n",
    "\n",
    "# This is the library for the Reservoir Computing got it by: https://github.com/cknd/pyESN\n",
    "from pyESN import ESN \n",
    "%matplotlib inline\n"
   ]
  },
  {
   "cell_type": "markdown",
   "metadata": {},
   "source": [
    "### Read the data"
   ]
  },
  {
   "cell_type": "markdown",
   "metadata": {},
   "source": [
    "Read your dataset from the file amazon.txt"
   ]
  },
  {
   "cell_type": "code",
   "execution_count": 4,
   "metadata": {},
   "outputs": [
    {
     "data": {
      "text/plain": [
       "[<matplotlib.lines.Line2D at 0x7f5129481550>]"
      ]
     },
     "execution_count": 4,
     "metadata": {},
     "output_type": "execute_result"
    },
    {
     "data": {
      "image/png": "[encoded data removed]",
      "text/plain": [
       "<matplotlib.figure.Figure at 0x7f5129492828>"
      ]
     },
     "metadata": {},
     "output_type": "display_data"
    }
   ],
   "source": [
    "### your code here\n",
    "data = np.loadtxt('amazon.txt')\n",
    "plt.plot(data)"
   ]
  },
  {
   "cell_type": "markdown",
   "metadata": {},
   "source": [
    "<div class='exercise'><b> Question 1: Predictions with the RC [3pts]  </b></div>\n",
    "Use the ESN from the pyESN library to employ an RC network. The task here is to predict two time points ahead by using the previous 1500 points and do that for 100 future points (check the figure below). So, in the end you will have a 100 time step prediction with prediction-window = 2. This will be your validation set.\n",
    "\n",
    "In this question you should use the following hyper-parameters:  \n",
    "- n_reservoir = 500\n",
    "- sparsity=0.2\n",
    "- random_state=23\n",
    "- spectral_radius=1.2\n",
    "- noise = 0.005\n",
    "\n",
    "<br> *Hint: Follow the mackey.ipynb example in pyESN*\n",
    "<img src=\"seq_prediction2.gif\">\n",
    "\n",
    "\n"
   ]
  },
  {
   "cell_type": "code",
   "execution_count": 5,
   "metadata": {
    "collapsed": true
   },
   "outputs": [],
   "source": [
    "### your code here\n",
    "### your code here\n",
    "n_reservoir= 500\n",
    "sparsity=0.2\n",
    "rand_seed=23\n",
    "spectral_radius = 1.2\n",
    "noise = .0005\n",
    "\n",
    "\n",
    "esn = ESN(n_inputs = 1,\n",
    "      n_outputs = 1, \n",
    "      n_reservoir = n_reservoir,\n",
    "      sparsity=sparsity,\n",
    "      random_state=rand_seed,\n",
    "      spectral_radius = spectral_radius,\n",
    "      noise=noise)\n",
    "\n",
    "trainlen = 1500\n",
    "future = 2\n",
    "futureTotal=100\n",
    "pred_tot=np.zeros(futureTotal)\n",
    "\n",
    "for i in range(0,futureTotal,future):\n",
    "    pred_training = esn.fit(np.ones(trainlen),data[i:trainlen+i])\n",
    "    prediction = esn.predict(np.ones(future))\n",
    "    pred_tot[i:i+future] = prediction[:,0]\n",
    " \n",
    " "
   ]
  },
  {
   "cell_type": "markdown",
   "metadata": {},
   "source": [
    "Plot your prediction along with the ground truth (data) for the training and for the validation dataset"
   ]
  },
  {
   "cell_type": "code",
   "execution_count": 6,
   "metadata": {},
   "outputs": [
    {
     "data": {
      "text/plain": [
       "Text(0,0.5,'price')"
      ]
     },
     "execution_count": 6,
     "metadata": {},
     "output_type": "execute_result"
    },
    {
     "data": {
      "image/png": "[encoded data removed]",
      "text/plain": [
       "<matplotlib.figure.Figure at 0x7f5129457d68>"
      ]
     },
     "metadata": {},
     "output_type": "display_data"
    }
   ],
   "source": [
    "### your code here\n",
    "### your code here\n",
    "plt.figure(figsize=(10,3.))\n",
    "plt.plot(range(0,trainlen+futureTotal),data[0:trainlen+futureTotal],'.b',label=\"data\")\n",
    "plt.plot(range(0,trainlen),pred_training,'.g',  alpha=0.3)\n",
    "plt.plot(range(trainlen,trainlen+futureTotal),pred_tot,'.r',  alpha=0.3)\n",
    "\n",
    "lo,hi = plt.ylim()\n",
    "plt.plot([trainlen,trainlen],[lo+np.spacing(1),hi-np.spacing(1)],'k:', linewidth=4)\n",
    "plt.xlabel('time')\n",
    "plt.ylabel('price')"
   ]
  },
  {
   "cell_type": "markdown",
   "metadata": {},
   "source": [
    "Comment on the computational complexity of the training and evaluation of the RC. "
   ]
  },
  {
   "cell_type": "markdown",
   "metadata": {
    "collapsed": true
   },
   "source": [
    "### your answer here"
   ]
  },
  {
   "cell_type": "markdown",
   "metadata": {},
   "source": [
    "The computational complexity for an RC is quite small comparing standard RNNs. The reason is that we essentially train only the the weights of the output layer, which is a linear layer, so the computational complexity is the same with a linear regression task. In particular, the training complexity is of the order O(N) where N is the number of hidden units located in the reservoir. This makes the training and the evaluation very fast."
   ]
  },
  {
   "cell_type": "markdown",
   "metadata": {},
   "source": [
    "<div class='exercise'><b> Question 2: Hyper-parameters optimization [4 pts] </b></div>\n",
    "We are asking you to find the optimal values for spectral_radius, noise  that gives the best prediction of this time series. In other words, we are looking for the hyper-parameters set that returns the minimum mean-square-error MSE. As previously, for each set of (spectral_radius, noise) you have to predict two time points ahead by using the previous 1500 points and do that for 100 steps as you did in Question 1. These are essentially your validation set. Then calculate the MSE loss for the validation set and show through visualization which set gives the lowest MSE.\n",
    "<br>\n",
    "Hints:\n",
    "- Build a function for the MSE\n",
    "- Perform a grid search for the hyper parameters spectral_radius and noise\n",
    "- Use the ranges: spectrum_radius = [0.5, 1.5] and noise=[0.0001, 0.01]\n",
    "- For each set of (spectral_radius, noise) train the RC and make predictions as in Q1; these predictions are the validation sets\n",
    "- For each validation set calculate the MSE and store it\n",
    "- Make a 2D color plot to show the MSE for the different values of spectral_radius and noise"
   ]
  },
  {
   "cell_type": "markdown",
   "metadata": {},
   "source": [
    "Build a function for the MSE"
   ]
  },
  {
   "cell_type": "code",
   "execution_count": 7,
   "metadata": {
    "collapsed": true
   },
   "outputs": [],
   "source": [
    "### your code here\n",
    "def MSE(yhat, y):\n",
    "    return np.sqrt(np.mean((yhat.flatten() - y)**2))\n"
   ]
  },
  {
   "cell_type": "markdown",
   "metadata": {},
   "source": [
    "Perform a grid search"
   ]
  },
  {
   "cell_type": "code",
   "execution_count": 36,
   "metadata": {},
   "outputs": [
    {
     "name": "stdout",
     "output_type": "stream",
     "text": [
      "rho =  0.5 , noise =  0.0001 , MSE =  20.36705680155835\n",
      "rho =  0.5 , noise =  0.0003 , MSE =  22.44956008067957\n",
      "rho =  0.5 , noise =  0.0007 , MSE =  24.57490997892855\n",
      "rho =  0.5 , noise =  0.001 , MSE =  25.862558649249905\n",
      "rho =  0.5 , noise =  0.003 , MSE =  29.882933676862976\n",
      "rho =  0.5 , noise =  0.005 , MSE =  32.6394261429105\n",
      "rho =  0.5 , noise =  0.007 , MSE =  36.44124554869158\n",
      "rho =  0.5 , noise =  0.01 , MSE =  44.77637915283469\n",
      "rho =  0.7 , noise =  0.0001 , MSE =  19.56051790266155\n",
      "rho =  0.7 , noise =  0.0003 , MSE =  20.127427949743556\n",
      "rho =  0.7 , noise =  0.0007 , MSE =  20.818014277373756\n",
      "rho =  0.7 , noise =  0.001 , MSE =  21.261426199654412\n",
      "rho =  0.7 , noise =  0.003 , MSE =  23.270880660905988\n",
      "rho =  0.7 , noise =  0.005 , MSE =  26.06134733157873\n",
      "rho =  0.7 , noise =  0.007 , MSE =  30.29836197943494\n",
      "rho =  0.7 , noise =  0.01 , MSE =  39.17074955771693\n",
      "rho =  0.9 , noise =  0.0001 , MSE =  18.612970861097516\n",
      "rho =  0.9 , noise =  0.0003 , MSE =  18.68181581690141\n",
      "rho =  0.9 , noise =  0.0007 , MSE =  18.835785386209093\n",
      "rho =  0.9 , noise =  0.001 , MSE =  18.982346096372577\n",
      "rho =  0.9 , noise =  0.003 , MSE =  20.81632098848152\n",
      "rho =  0.9 , noise =  0.005 , MSE =  24.609683774891774\n",
      "rho =  0.9 , noise =  0.007 , MSE =  30.231007189973297\n",
      "rho =  0.9 , noise =  0.01 , MSE =  41.285873405850865\n",
      "rho =  1 , noise =  0.0001 , MSE =  18.238521811554083\n",
      "rho =  1 , noise =  0.0003 , MSE =  18.270106151029342\n",
      "rho =  1 , noise =  0.0007 , MSE =  18.360780594160623\n",
      "rho =  1 , noise =  0.001 , MSE =  18.479200068860457\n",
      "rho =  1 , noise =  0.003 , MSE =  20.61322795189178\n",
      "rho =  1 , noise =  0.005 , MSE =  25.15371210912733\n",
      "rho =  1 , noise =  0.007 , MSE =  31.70083883574422\n",
      "rho =  1 , noise =  0.01 , MSE =  44.23736750780832\n",
      "rho =  1.1 , noise =  0.0001 , MSE =  17.98157175452745\n",
      "rho =  1.1 , noise =  0.0003 , MSE =  18.009398311540192\n",
      "rho =  1.1 , noise =  0.0007 , MSE =  18.090547368928604\n",
      "rho =  1.1 , noise =  0.001 , MSE =  18.2187952491986\n",
      "rho =  1.1 , noise =  0.003 , MSE =  20.8261056134137\n",
      "rho =  1.1 , noise =  0.005 , MSE =  26.272452530356176\n",
      "rho =  1.1 , noise =  0.007 , MSE =  33.91532767433279\n",
      "rho =  1.1 , noise =  0.01 , MSE =  48.22002405966504\n",
      "rho =  1.3 , noise =  0.0001 , MSE =  17.72839068182581\n",
      "rho =  1.3 , noise =  0.0003 , MSE =  17.799908079496117\n",
      "rho =  1.3 , noise =  0.0007 , MSE =  17.929172084479045\n",
      "rho =  1.3 , noise =  0.001 , MSE =  18.14390528885975\n",
      "rho =  1.3 , noise =  0.003 , MSE =  22.203437474557873\n",
      "rho =  1.3 , noise =  0.005 , MSE =  30.059777045144607\n",
      "rho =  1.3 , noise =  0.007 , MSE =  40.56654468067159\n",
      "rho =  1.3 , noise =  0.01 , MSE =  59.43231026659665\n",
      "rho =  1.5 , noise =  0.0001 , MSE =  17.627409489705446\n",
      "rho =  1.5 , noise =  0.0003 , MSE =  17.835052828810465\n",
      "rho =  1.5 , noise =  0.0007 , MSE =  18.100099619715113\n",
      "rho =  1.5 , noise =  0.001 , MSE =  18.48140658743704\n",
      "rho =  1.5 , noise =  0.003 , MSE =  24.88760118265258\n",
      "rho =  1.5 , noise =  0.005 , MSE =  36.34166374515884\n",
      "rho =  1.5 , noise =  0.007 , MSE =  50.99612645583043\n",
      "rho =  1.5 , noise =  0.01 , MSE =  75.94229622772036\n"
     ]
    }
   ],
   "source": [
    "### your code here\n",
    "\n",
    "\n",
    "n_reservoir= 500\n",
    "sparsity   = 0.2\n",
    "rand_seed  = 23\n",
    "radius_set = [0.9,  1,  1.1]\n",
    "noise_set = [ 0.001, 0.004, 0.006]\n",
    "\n",
    "radius_set = [0.5, 0.7, 0.9,  1,  1.1,1.3,1.5]\n",
    "noise_set = [ 0.0001, 0.0003,0.0007, 0.001, 0.003, 0.005, 0.007,0.01]\n",
    "\n",
    "\n",
    "\n",
    "radius_set_size  = len(radius_set)\n",
    "noise_set_size = len(noise_set)\n",
    "\n",
    "trainlen = 1500\n",
    "future = 2\n",
    "futureTotal= 100\n",
    "\n",
    "loss = np.zeros([radius_set_size, noise_set_size])\n",
    "\n",
    "for l in range(radius_set_size):\n",
    "    rho = radius_set[l]\n",
    "    for j in range(noise_set_size):\n",
    "        noise = noise_set[j]\n",
    "\n",
    "        pred_tot=np.zeros(futureTotal)\n",
    "\n",
    "        esn = ESN(n_inputs = 1,\n",
    "          n_outputs = 1, \n",
    "          n_reservoir = n_reservoir,\n",
    "          sparsity=sparsity,\n",
    "          random_state=rand_seed,\n",
    "          spectral_radius = rho,\n",
    "          noise=noise)\n",
    "\n",
    "        for i in range(0,futureTotal,future):\n",
    "            pred_training = esn.fit(np.ones(trainlen),data[i:trainlen+i])\n",
    "            prediction = esn.predict(np.ones(future))\n",
    "            pred_tot[i:i+future] = prediction[:,0]\n",
    "        \n",
    "        loss[l, j] = MSE(pred_tot, data[trainlen:trainlen+futureTotal])        \n",
    "        print('rho = ', radius_set[l], ', noise = ', noise_set[j], ', MSE = ', loss[l][j] )\n",
    "\n"
   ]
  },
  {
   "cell_type": "markdown",
   "metadata": {},
   "source": [
    "Make a 2D plot to show the MSE for the different values of spectral_radius and noise"
   ]
  },
  {
   "cell_type": "code",
   "execution_count": 37,
   "metadata": {},
   "outputs": [
    {
     "data": {
      "image/png": "[encoded data removed]",
      "text/plain": [
       "<matplotlib.figure.Figure at 0x7f51291d4940>"
      ]
     },
     "metadata": {},
     "output_type": "display_data"
    }
   ],
   "source": [
    "### your code here\n",
    "plt.figure(figsize=(10,3.5))\n",
    "im = plt.imshow(loss.T, vmin=abs(loss).min(), vmax=abs(loss).max(), origin='lower',cmap='PuRd')\n",
    "plt.xticks(np.linspace(0,radius_set_size-1,radius_set_size), radius_set);\n",
    "plt.yticks(np.linspace(0,noise_set_size-1, noise_set_size), noise_set);\n",
    "plt.xlabel(r'$\\rho$'); plt.ylabel('noise'); \n",
    "\n",
    "# im.set_interpolation('bilinear')\n",
    "cb = plt.colorbar(im); \n",
    "\n"
   ]
  },
  {
   "cell_type": "markdown",
   "metadata": {},
   "source": [
    "What is the optimal set? "
   ]
  },
  {
   "cell_type": "code",
   "execution_count": 38,
   "metadata": {},
   "outputs": [
    {
     "name": "stdout",
     "output_type": "stream",
     "text": [
      "The optimal set is:\n",
      "spectrum radius =  1.5 \n",
      "noise =  0.0001 \n",
      "MSE =  17.627409489705446\n"
     ]
    }
   ],
   "source": [
    "### Your answer here\n",
    "minLoss = np.min(loss)\n",
    "index_min = np.where(loss == minLoss)\n",
    "index_min\n",
    "rho_opt = radius_set[int(index_min[0])]\n",
    "noise_opt = noise_set[int(index_min[1])]\n",
    "print('The optimal set is:\\nspectrum radius = ',\n",
    "      rho_opt,'\\nnoise = ',noise_opt,'\\nMSE = ',minLoss)"
   ]
  },
  {
   "cell_type": "markdown",
   "metadata": {},
   "source": [
    "<div class='exercise'><b> Question 3: Explore the RC ability in long predictions [3 pts] </b></div>\n",
    "In the previous question you make predictions for two time points ahead by using the previous 1500 points and for 100 future points in total. In this question we are asking to explore if the prediction window (we used 2 in Question 1 and Question 2) affects the predictability. Using the optimal hyper parameters you found in Question 2, perform the analysis for windows: 1, 2, 5, and 10. Does the MSE in the validation set depends on this window? \n",
    "<br>\n",
    "<br>\n",
    "**Hints:**\n",
    "- Use the optimal set of hyper parameters that you found on Q2\n",
    "- For this set repeat the calculation of the Q1 for different prediction windows and for the optimal window. In particular, instead of predicting two time points ahead you have to predict for 1, 2, 5, 10.\n",
    "- For each prediction calculate the MSE in the validation set\n",
    "- Plot the MSE as a function of the prediction window\n",
    "- Comment  on your results (always!) "
   ]
  },
  {
   "cell_type": "code",
   "execution_count": 34,
   "metadata": {
    "collapsed": true
   },
   "outputs": [],
   "source": [
    "### your code here\n",
    "n_reservoir= 500\n",
    "sparsity=0.2\n",
    "rand_seed=23\n",
    "spectral_radius = 1.1\n",
    "noise = .0001\n",
    "\n",
    "# let k_set be an array with the prediction-window values\n",
    "k_set = [1,2,5,10]\n",
    "\n",
    "k_size = len(k_set)\n",
    "loss_k = np.zeros(k_size)\n",
    "\n",
    "for l in range(k_size):\n",
    "    future = k_set[l]\n",
    "\n",
    "    trainlen = 1500    \n",
    "    futureTotal=100\n",
    "    \n",
    "    pred_tot=np.zeros(futureTotal)\n",
    "\n",
    "    esn = ESN(n_inputs = 1,\n",
    "          n_outputs = 1, \n",
    "          n_reservoir = n_reservoir,\n",
    "          sparsity=sparsity,\n",
    "          random_state=rand_seed,\n",
    "          spectral_radius = spectral_radius,\n",
    "          noise=noise)\n",
    "\n",
    "\n",
    "    for i in range(0,futureTotal,future):\n",
    "        pred_training = esn.fit(np.ones(trainlen),data[i:trainlen+i])\n",
    "        prediction = esn.predict(np.ones(future))\n",
    "        pred_tot[i:i+future] = prediction[:,0]\n",
    "        \n",
    "    loss_k[l] = MSE(pred_tot, data[trainlen:trainlen+futureTotal])        \n",
    "    "
   ]
  },
  {
   "cell_type": "markdown",
   "metadata": {},
   "source": [
    "Plot the MSE as a function of the prediction window"
   ]
  },
  {
   "cell_type": "code",
   "execution_count": 35,
   "metadata": {},
   "outputs": [
    {
     "data": {
      "text/plain": [
       "Text(0,0.5,'MSE')"
      ]
     },
     "execution_count": 35,
     "metadata": {},
     "output_type": "execute_result"
    },
    {
     "data": {
      "image/png": "[encoded data removed]",
      "text/plain": [
       "<matplotlib.figure.Figure at 0x7f512927b978>"
      ]
     },
     "metadata": {},
     "output_type": "display_data"
    }
   ],
   "source": [
    "### your code here\n",
    "plt.plot(k_set, loss_k,'-ob')\n",
    "plt.xlabel('window')\n",
    "plt.ylabel('MSE')"
   ]
  },
  {
   "cell_type": "markdown",
   "metadata": {},
   "source": [
    "How does the predictability depend on the length of the prediction? "
   ]
  },
  {
   "cell_type": "code",
   "execution_count": 131,
   "metadata": {
    "collapsed": true
   },
   "outputs": [],
   "source": [
    "### your comments here\n"
   ]
  },
  {
   "cell_type": "markdown",
   "metadata": {
    "collapsed": true
   },
   "source": [
    "In the future predictions the error propagates in time and thus it increases in time. This is the reason that as longer is a prediction as more difficult to make it. We can see this behavior in the plot above, where the MSE is an increasing monotonically function of the prediction-window, hence longer predictions mean larger MSE."
   ]
  },
  {
   "cell_type": "code",
   "execution_count": null,
   "metadata": {
    "collapsed": true
   },
   "outputs": [],
   "source": []
  }
 ],
 "metadata": {
  "kernelspec": {
   "display_name": "Python 3",
   "language": "python",
   "name": "python3"
  },
  "language_info": {
   "codemirror_mode": {
    "name": "ipython",
    "version": 3
   },
   "file_extension": ".py",
   "mimetype": "text/x-python",
   "name": "python",
   "nbconvert_exporter": "python",
   "pygments_lexer": "ipython3",
   "version": "3.6.3"
  }
 },
 "nbformat": 4,
 "nbformat_minor": 1
}
