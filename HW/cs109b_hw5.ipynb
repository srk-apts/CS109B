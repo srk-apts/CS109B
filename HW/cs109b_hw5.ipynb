{
 "cells": [
  {
   "cell_type": "markdown",
   "metadata": {},
   "source": [
    "# <img style=\"float: left; padding-right: 10px; width: 45px\" src=\"https://raw.githubusercontent.com/Harvard-IACS/2018-CS109A/master/content/styles/iacs.png\"> CS109B Data Science 2: Advanced Topics in Data Science \n",
    "## Homework 5 - Clustering and Reinforcement Learning\n",
    "\n",
    "\n",
    "\n",
    "\n",
    "**Harvard University**<br/>\n",
    "**Spring 2019**<br/>\n",
    "**Instructors**: Mark Glickman and Pavlos Protopapas \n",
    "\n",
    "\n",
    "<hr style=\"height:2pt\">"
   ]
  },
  {
   "cell_type": "markdown",
   "metadata": {},
   "source": [
    "### Homework 5 is due 4/3  (This is individual homework - No collaboration)"
   ]
  },
  {
   "cell_type": "code",
   "execution_count": 1,
   "metadata": {},
   "outputs": [
    {
     "data": {
      "text/html": [
       "<style>\n",
       "blockquote { background: #AEDE94; }\n",
       "h1 { \n",
       "    padding-top: 25px;\n",
       "    padding-bottom: 25px;\n",
       "    text-align: left; \n",
       "    padding-left: 10px;\n",
       "    background-color: #DDDDDD; \n",
       "    color: black;\n",
       "}\n",
       "h2 { \n",
       "    padding-top: 10px;\n",
       "    padding-bottom: 10px;\n",
       "    text-align: left; \n",
       "    padding-left: 5px;\n",
       "    background-color: #EEEEEE; \n",
       "    color: black;\n",
       "}\n",
       "\n",
       "div.exercise {\n",
       "\tbackground-color: #ffcccc;\n",
       "\tborder-color: #E9967A; \t\n",
       "\tborder-left: 5px solid #800080; \n",
       "\tpadding: 0.5em;\n",
       "}\n",
       "\n",
       "span.sub-q {\n",
       "\tfont-weight: bold;\n",
       "}\n",
       "div.theme {\n",
       "\tbackground-color: #DDDDDD;\n",
       "\tborder-color: #E9967A; \t\n",
       "\tborder-left: 5px solid #800080; \n",
       "\tpadding: 0.5em;\n",
       "\tfont-size: 18pt;\n",
       "}\n",
       "div.gc { \n",
       "\tbackground-color: #AEDE94;\n",
       "\tborder-color: #E9967A; \t \n",
       "\tborder-left: 5px solid #800080; \n",
       "\tpadding: 0.5em;\n",
       "\tfont-size: 12pt;\n",
       "}\n",
       "p.q1 { \n",
       "    padding-top: 5px;\n",
       "    padding-bottom: 5px;\n",
       "    text-align: left; \n",
       "    padding-left: 5px;\n",
       "    background-color: #EEEEEE; \n",
       "    color: black;\n",
       "}\n",
       "header {\n",
       "   padding-top: 35px;\n",
       "    padding-bottom: 35px;\n",
       "    text-align: left; \n",
       "    padding-left: 10px;\n",
       "    background-color: #DDDDDD; \n",
       "    color: black;\n",
       "}\n",
       "</style>\n",
       "\n"
      ],
      "text/plain": [
       "<IPython.core.display.HTML object>"
      ]
     },
     "execution_count": 1,
     "metadata": {},
     "output_type": "execute_result"
    }
   ],
   "source": [
    "#PLEASE RUN THIS CELL \n",
    "import requests\n",
    "from IPython.core.display import HTML\n",
    "styles = requests.get(\"https://raw.githubusercontent.com/Harvard-IACS/2018-CS109A/master/content/styles/cs109.css\").text\n",
    "HTML(styles)"
   ]
  },
  {
   "cell_type": "markdown",
   "metadata": {},
   "source": [
    "### INSTRUCTIONS\n",
    "\n",
    "- This is individual homework - No collaboration/Groups\n",
    "- Problem 1 + Problem 2 = 75 points ; Problem 3 = 25 points\n",
    "- To install `gym` package - please use `pip install gym`\n",
    "- To submit your assignment, please follow the instructions on Canvas.\n",
    "- Please restart the kernel and run the entire notebook again before you submit.\n",
    "\n",
    "<hr style=\"height:2pt\">"
   ]
  },
  {
   "cell_type": "markdown",
   "metadata": {},
   "source": [
    "### Please use the libraries below:"
   ]
  },
  {
   "cell_type": "code",
   "execution_count": 108,
   "metadata": {},
   "outputs": [
    {
     "name": "stdout",
     "output_type": "stream",
     "text": [
      "\u001b[33mThe directory '/jupyteruser/11387454/.cache/pip/http' or its parent directory is not owned by the current user and the cache has been disabled. Please check the permissions and owner of that directory. If executing pip with sudo, you may want sudo's -H flag.\u001b[0m\n",
      "\u001b[33mThe directory '/home/11387454/.cache/pip' or its parent directory is not owned by the current user and caching wheels has been disabled. check the permissions and owner of that directory. If executing pip with sudo, you may want sudo's -H flag.\u001b[0m\n",
      "Requirement already up-to-date: pip in /usr/local/lib/python3.5/dist-packages (19.0.3)\n"
     ]
    }
   ],
   "source": [
    "!pip install --upgrade pip"
   ]
  },
  {
   "cell_type": "code",
   "execution_count": 109,
   "metadata": {},
   "outputs": [],
   "source": [
    "# RUN THIS TO INSTALL PACKAGES\n",
    "# !pip install gym\n",
    "#! pip install rpy2\n",
    "#r_utils.install_packages('ggplot2')\n",
    "# r_utils.install_packages('stats')\n",
    "# r_utils.install_packages('factoextra')\n",
    "# r_utils.install_packages('base')"
   ]
  },
  {
   "cell_type": "code",
   "execution_count": 114,
   "metadata": {},
   "outputs": [],
   "source": [
    "# This can make the kernel die if it doesn't go well\n",
    "# RUN ON JUPYTER HUB\n",
    "import os\n",
    "os.environ['R_HOME'] = \"/usr/share/anaconda3/lib/R\"\n",
    "\n",
    "import pandas as pd\n",
    "from rpy2.robjects.packages import importr\n",
    "r_utils = importr('utils')\n",
    "import numpy as np\n",
    "%matplotlib inline \n",
    "import matplotlib.pyplot as plt\n",
    "r_ggplot2 = importr('ggplot2')\n",
    "import IPython\n",
    "import rpy2\n",
    "from rpy2.robjects.lib.grdevices import render_to_bytesio\n",
    "from rpy2.robjects import pandas2ri\n",
    "pandas2ri.activate()\n",
    "import rpy2.robjects.lib.ggplot2 as ggplot2\n",
    "r_stats = importr('stats')\n",
    "r_factoextra = importr('factoextra')\n",
    "r_base = importr('base')\n",
    "import scipy.cluster.hierarchy as hac\n",
    "from scipy.spatial.distance import pdist\n",
    "from sklearn.preprocessing import StandardScaler"
   ]
  },
  {
   "cell_type": "code",
   "execution_count": 116,
   "metadata": {},
   "outputs": [],
   "source": [
    "#RL\n",
    "# import gym\n",
    "# from gym.envs.registration import register\n",
    "import seaborn as sns\n",
    "import matplotlib.pyplot as plt\n",
    "%matplotlib inline \n",
    "import sys\n",
    "import pylab\n",
    "import random\n",
    "import numpy as np\n",
    "from collections import deque\n",
    "from keras.layers import Dense\n",
    "from keras.optimizers import Adam\n",
    "from keras.models import Sequential\n",
    "#from tqdm import tqdm\n",
    "from copy import deepcopy\n",
    "import numpy.linalg as LA"
   ]
  },
  {
   "cell_type": "markdown",
   "metadata": {},
   "source": [
    "Note that this has been tested on JupyterHub"
   ]
  },
  {
   "cell_type": "markdown",
   "metadata": {},
   "source": [
    "Note that this has been tested with \n",
    "* pandas version 0.23.4\n",
    "* rpy2 version 2.9.4\n",
    "* ggplot2 version 2.2.1\n",
    "\n",
    "The latest libraries may have changed somewhat since these versions; if you are having problems, try using these versions."
   ]
  },
  {
   "cell_type": "markdown",
   "metadata": {},
   "source": [
    "\n",
    "<hr style=\"height:2pt\">"
   ]
  },
  {
   "cell_type": "markdown",
   "metadata": {},
   "source": [
    "<div class=\"theme\">*Handy* Algorithms </div>\n",
    "\n",
    "\n",
    "    \n",
    "In this assignment, you will be working with data collected from a motion capture camera system. The system was used to record 14 different users performing 5 distinct hand postures with markers attached to a left-handed glove. A set of markers on the back of the glove was used to establish a local coordinate system for the hand, and 8 additional markers were attached to the thumb and fingers of the glove. A total of 24 features were collected based on observations from the camera system. Two other variables in the dataset were the ID of the user and the posture that the user made.\n",
    "\n",
    "These data have been preprocessed, including transformation to the local coordinate system of the record, removal of outliers, and removal of missing data.\n",
    "\n",
    "The dataset `postures_clean.csv` contains 38,943 rows and 26 columns. Each row corresponds to a single frame as captured by the camera system. The data are represented in the following manner:\n",
    "\n",
    "`Class (type: Integer). The hand posture of the given observation, with`\n",
    "\n",
    "`1 = Fist (with thumb out)`\n",
    "\n",
    "`2 = Stop (hand flat)`\n",
    "\n",
    "`3 = Point1 (point with index finger)`\n",
    "\n",
    "`4 = Point2 (point with index and middle fingers)`\n",
    "\n",
    "`5 = Grab (fingers curled as if to grab)`\n",
    "\n",
    "`User (type: Integer). The ID of the user that contributed the record.`\n",
    "\n",
    "`X0, Y0, Z0, X1, Y1, Z1,..., X7, Y7, Z7 (type: Real). The x-coordinate, y-coordinate, and z-coordinate of the eight unlabeled marker positions.`\n"
   ]
  },
  {
   "cell_type": "markdown",
   "metadata": {},
   "source": [
    "Start by reading the dataset into a pandas data frame."
   ]
  },
  {
   "cell_type": "code",
   "execution_count": 117,
   "metadata": {},
   "outputs": [
    {
     "data": {
      "text/html": [
       "<div>\n",
       "<style scoped>\n",
       "    .dataframe tbody tr th:only-of-type {\n",
       "        vertical-align: middle;\n",
       "    }\n",
       "\n",
       "    .dataframe tbody tr th {\n",
       "        vertical-align: top;\n",
       "    }\n",
       "\n",
       "    .dataframe thead th {\n",
       "        text-align: right;\n",
       "    }\n",
       "</style>\n",
       "<table border=\"1\" class=\"dataframe\">\n",
       "  <thead>\n",
       "    <tr style=\"text-align: right;\">\n",
       "      <th></th>\n",
       "      <th>Class</th>\n",
       "      <th>User</th>\n",
       "      <th>X0</th>\n",
       "      <th>Y0</th>\n",
       "      <th>Z0</th>\n",
       "      <th>X1</th>\n",
       "      <th>Y1</th>\n",
       "      <th>Z1</th>\n",
       "      <th>X2</th>\n",
       "      <th>Y2</th>\n",
       "      <th>...</th>\n",
       "      <th>Z4</th>\n",
       "      <th>X5</th>\n",
       "      <th>Y5</th>\n",
       "      <th>Z5</th>\n",
       "      <th>X6</th>\n",
       "      <th>Y6</th>\n",
       "      <th>Z6</th>\n",
       "      <th>X7</th>\n",
       "      <th>Y7</th>\n",
       "      <th>Z7</th>\n",
       "    </tr>\n",
       "  </thead>\n",
       "  <tbody>\n",
       "    <tr>\n",
       "      <th>0</th>\n",
       "      <td>1</td>\n",
       "      <td>0</td>\n",
       "      <td>72.692270</td>\n",
       "      <td>50.023771</td>\n",
       "      <td>-72.963253</td>\n",
       "      <td>-11.593076</td>\n",
       "      <td>81.234142</td>\n",
       "      <td>-28.450210</td>\n",
       "      <td>51.729995</td>\n",
       "      <td>82.844469</td>\n",
       "      <td>...</td>\n",
       "      <td>-47.909511</td>\n",
       "      <td>10.028439</td>\n",
       "      <td>88.967979</td>\n",
       "      <td>-32.045120</td>\n",
       "      <td>7.732511</td>\n",
       "      <td>25.135415</td>\n",
       "      <td>10.723395</td>\n",
       "      <td>55.943868</td>\n",
       "      <td>19.513363</td>\n",
       "      <td>-70.380124</td>\n",
       "    </tr>\n",
       "    <tr>\n",
       "      <th>1</th>\n",
       "      <td>1</td>\n",
       "      <td>0</td>\n",
       "      <td>85.648015</td>\n",
       "      <td>73.561022</td>\n",
       "      <td>-71.838316</td>\n",
       "      <td>31.595034</td>\n",
       "      <td>90.217896</td>\n",
       "      <td>-47.246688</td>\n",
       "      <td>52.230858</td>\n",
       "      <td>82.361548</td>\n",
       "      <td>...</td>\n",
       "      <td>-25.243914</td>\n",
       "      <td>10.277516</td>\n",
       "      <td>88.607958</td>\n",
       "      <td>-32.037539</td>\n",
       "      <td>56.308829</td>\n",
       "      <td>18.774768</td>\n",
       "      <td>-70.996523</td>\n",
       "      <td>6.913199</td>\n",
       "      <td>24.967750</td>\n",
       "      <td>9.697553</td>\n",
       "    </tr>\n",
       "    <tr>\n",
       "      <th>2</th>\n",
       "      <td>1</td>\n",
       "      <td>0</td>\n",
       "      <td>-10.346977</td>\n",
       "      <td>81.751331</td>\n",
       "      <td>-25.587870</td>\n",
       "      <td>33.414886</td>\n",
       "      <td>91.985986</td>\n",
       "      <td>-41.364447</td>\n",
       "      <td>5.625100</td>\n",
       "      <td>24.523349</td>\n",
       "      <td>...</td>\n",
       "      <td>-67.660208</td>\n",
       "      <td>87.019172</td>\n",
       "      <td>75.505188</td>\n",
       "      <td>-67.462052</td>\n",
       "      <td>56.807276</td>\n",
       "      <td>20.950953</td>\n",
       "      <td>-68.375831</td>\n",
       "      <td>11.602112</td>\n",
       "      <td>89.400536</td>\n",
       "      <td>-29.062279</td>\n",
       "    </tr>\n",
       "    <tr>\n",
       "      <th>3</th>\n",
       "      <td>2</td>\n",
       "      <td>0</td>\n",
       "      <td>63.554969</td>\n",
       "      <td>98.490988</td>\n",
       "      <td>11.165920</td>\n",
       "      <td>49.159831</td>\n",
       "      <td>154.330730</td>\n",
       "      <td>32.004168</td>\n",
       "      <td>92.793124</td>\n",
       "      <td>137.143202</td>\n",
       "      <td>...</td>\n",
       "      <td>-74.307346</td>\n",
       "      <td>58.421362</td>\n",
       "      <td>27.499634</td>\n",
       "      <td>-71.713081</td>\n",
       "      <td>12.660462</td>\n",
       "      <td>95.077144</td>\n",
       "      <td>29.664434</td>\n",
       "      <td>84.110115</td>\n",
       "      <td>151.545456</td>\n",
       "      <td>16.891147</td>\n",
       "    </tr>\n",
       "    <tr>\n",
       "      <th>4</th>\n",
       "      <td>2</td>\n",
       "      <td>0</td>\n",
       "      <td>80.873812</td>\n",
       "      <td>93.722537</td>\n",
       "      <td>-4.988816</td>\n",
       "      <td>63.572103</td>\n",
       "      <td>98.476638</td>\n",
       "      <td>11.242908</td>\n",
       "      <td>49.142700</td>\n",
       "      <td>154.347050</td>\n",
       "      <td>...</td>\n",
       "      <td>-71.629823</td>\n",
       "      <td>20.573646</td>\n",
       "      <td>132.913455</td>\n",
       "      <td>35.349247</td>\n",
       "      <td>92.942044</td>\n",
       "      <td>137.182817</td>\n",
       "      <td>1.297511</td>\n",
       "      <td>35.480104</td>\n",
       "      <td>99.739019</td>\n",
       "      <td>22.802243</td>\n",
       "    </tr>\n",
       "    <tr>\n",
       "      <th>5</th>\n",
       "      <td>2</td>\n",
       "      <td>0</td>\n",
       "      <td>80.775150</td>\n",
       "      <td>93.705283</td>\n",
       "      <td>-5.090904</td>\n",
       "      <td>63.479609</td>\n",
       "      <td>98.429524</td>\n",
       "      <td>11.161413</td>\n",
       "      <td>48.924111</td>\n",
       "      <td>154.340338</td>\n",
       "      <td>...</td>\n",
       "      <td>1.487330</td>\n",
       "      <td>95.261862</td>\n",
       "      <td>73.719164</td>\n",
       "      <td>-74.222778</td>\n",
       "      <td>20.499495</td>\n",
       "      <td>132.863377</td>\n",
       "      <td>35.309544</td>\n",
       "      <td>58.297882</td>\n",
       "      <td>27.583892</td>\n",
       "      <td>-71.888449</td>\n",
       "    </tr>\n",
       "    <tr>\n",
       "      <th>6</th>\n",
       "      <td>2</td>\n",
       "      <td>0</td>\n",
       "      <td>80.618164</td>\n",
       "      <td>93.781461</td>\n",
       "      <td>-5.012812</td>\n",
       "      <td>63.213130</td>\n",
       "      <td>98.462919</td>\n",
       "      <td>11.045095</td>\n",
       "      <td>48.777435</td>\n",
       "      <td>154.327283</td>\n",
       "      <td>...</td>\n",
       "      <td>22.984485</td>\n",
       "      <td>93.073910</td>\n",
       "      <td>137.215156</td>\n",
       "      <td>1.859117</td>\n",
       "      <td>83.404493</td>\n",
       "      <td>151.744359</td>\n",
       "      <td>16.542773</td>\n",
       "      <td>95.314840</td>\n",
       "      <td>73.900253</td>\n",
       "      <td>-73.894505</td>\n",
       "    </tr>\n",
       "    <tr>\n",
       "      <th>7</th>\n",
       "      <td>2</td>\n",
       "      <td>0</td>\n",
       "      <td>79.870413</td>\n",
       "      <td>93.921192</td>\n",
       "      <td>-5.628231</td>\n",
       "      <td>79.239570</td>\n",
       "      <td>55.197852</td>\n",
       "      <td>-72.374008</td>\n",
       "      <td>48.446947</td>\n",
       "      <td>154.215388</td>\n",
       "      <td>...</td>\n",
       "      <td>23.142914</td>\n",
       "      <td>96.293636</td>\n",
       "      <td>74.093419</td>\n",
       "      <td>-72.683063</td>\n",
       "      <td>83.279689</td>\n",
       "      <td>151.629068</td>\n",
       "      <td>16.999059</td>\n",
       "      <td>58.050614</td>\n",
       "      <td>27.980287</td>\n",
       "      <td>-72.379748</td>\n",
       "    </tr>\n",
       "    <tr>\n",
       "      <th>8</th>\n",
       "      <td>2</td>\n",
       "      <td>0</td>\n",
       "      <td>79.047726</td>\n",
       "      <td>55.438751</td>\n",
       "      <td>-72.559546</td>\n",
       "      <td>83.598699</td>\n",
       "      <td>151.459461</td>\n",
       "      <td>17.853364</td>\n",
       "      <td>96.926380</td>\n",
       "      <td>74.206724</td>\n",
       "      <td>...</td>\n",
       "      <td>-5.061439</td>\n",
       "      <td>62.309617</td>\n",
       "      <td>98.518498</td>\n",
       "      <td>10.364931</td>\n",
       "      <td>13.072035</td>\n",
       "      <td>94.721383</td>\n",
       "      <td>30.953311</td>\n",
       "      <td>48.975880</td>\n",
       "      <td>154.059457</td>\n",
       "      <td>33.309698</td>\n",
       "    </tr>\n",
       "    <tr>\n",
       "      <th>9</th>\n",
       "      <td>2</td>\n",
       "      <td>0</td>\n",
       "      <td>78.772453</td>\n",
       "      <td>55.731455</td>\n",
       "      <td>-72.850496</td>\n",
       "      <td>35.652032</td>\n",
       "      <td>99.280239</td>\n",
       "      <td>24.241786</td>\n",
       "      <td>84.010330</td>\n",
       "      <td>151.315526</td>\n",
       "      <td>...</td>\n",
       "      <td>10.920971</td>\n",
       "      <td>20.944487</td>\n",
       "      <td>132.294274</td>\n",
       "      <td>37.455166</td>\n",
       "      <td>79.983362</td>\n",
       "      <td>93.859173</td>\n",
       "      <td>-5.008803</td>\n",
       "      <td>12.893935</td>\n",
       "      <td>94.621584</td>\n",
       "      <td>30.972233</td>\n",
       "    </tr>\n",
       "  </tbody>\n",
       "</table>\n",
       "<p>10 rows × 26 columns</p>\n",
       "</div>"
      ],
      "text/plain": [
       "   Class  User         X0         Y0         Z0         X1          Y1  \\\n",
       "0      1     0  72.692270  50.023771 -72.963253 -11.593076   81.234142   \n",
       "1      1     0  85.648015  73.561022 -71.838316  31.595034   90.217896   \n",
       "2      1     0 -10.346977  81.751331 -25.587870  33.414886   91.985986   \n",
       "3      2     0  63.554969  98.490988  11.165920  49.159831  154.330730   \n",
       "4      2     0  80.873812  93.722537  -4.988816  63.572103   98.476638   \n",
       "5      2     0  80.775150  93.705283  -5.090904  63.479609   98.429524   \n",
       "6      2     0  80.618164  93.781461  -5.012812  63.213130   98.462919   \n",
       "7      2     0  79.870413  93.921192  -5.628231  79.239570   55.197852   \n",
       "8      2     0  79.047726  55.438751 -72.559546  83.598699  151.459461   \n",
       "9      2     0  78.772453  55.731455 -72.850496  35.652032   99.280239   \n",
       "\n",
       "          Z1         X2          Y2    ...             Z4         X5  \\\n",
       "0 -28.450210  51.729995   82.844469    ...     -47.909511  10.028439   \n",
       "1 -47.246688  52.230858   82.361548    ...     -25.243914  10.277516   \n",
       "2 -41.364447   5.625100   24.523349    ...     -67.660208  87.019172   \n",
       "3  32.004168  92.793124  137.143202    ...     -74.307346  58.421362   \n",
       "4  11.242908  49.142700  154.347050    ...     -71.629823  20.573646   \n",
       "5  11.161413  48.924111  154.340338    ...       1.487330  95.261862   \n",
       "6  11.045095  48.777435  154.327283    ...      22.984485  93.073910   \n",
       "7 -72.374008  48.446947  154.215388    ...      23.142914  96.293636   \n",
       "8  17.853364  96.926380   74.206724    ...      -5.061439  62.309617   \n",
       "9  24.241786  84.010330  151.315526    ...      10.920971  20.944487   \n",
       "\n",
       "           Y5         Z5         X6          Y6         Z6         X7  \\\n",
       "0   88.967979 -32.045120   7.732511   25.135415  10.723395  55.943868   \n",
       "1   88.607958 -32.037539  56.308829   18.774768 -70.996523   6.913199   \n",
       "2   75.505188 -67.462052  56.807276   20.950953 -68.375831  11.602112   \n",
       "3   27.499634 -71.713081  12.660462   95.077144  29.664434  84.110115   \n",
       "4  132.913455  35.349247  92.942044  137.182817   1.297511  35.480104   \n",
       "5   73.719164 -74.222778  20.499495  132.863377  35.309544  58.297882   \n",
       "6  137.215156   1.859117  83.404493  151.744359  16.542773  95.314840   \n",
       "7   74.093419 -72.683063  83.279689  151.629068  16.999059  58.050614   \n",
       "8   98.518498  10.364931  13.072035   94.721383  30.953311  48.975880   \n",
       "9  132.294274  37.455166  79.983362   93.859173  -5.008803  12.893935   \n",
       "\n",
       "           Y7         Z7  \n",
       "0   19.513363 -70.380124  \n",
       "1   24.967750   9.697553  \n",
       "2   89.400536 -29.062279  \n",
       "3  151.545456  16.891147  \n",
       "4   99.739019  22.802243  \n",
       "5   27.583892 -71.888449  \n",
       "6   73.900253 -73.894505  \n",
       "7   27.980287 -72.379748  \n",
       "8  154.059457  33.309698  \n",
       "9   94.621584  30.972233  \n",
       "\n",
       "[10 rows x 26 columns]"
      ]
     },
     "execution_count": 117,
     "metadata": {},
     "output_type": "execute_result"
    }
   ],
   "source": [
    "#your code here\n",
    "postures_df = pd.read_csv('data/postures_clean.csv')\n",
    "postures_df.head(10)"
   ]
  },
  {
   "cell_type": "code",
   "execution_count": 118,
   "metadata": {},
   "outputs": [
    {
     "data": {
      "text/html": [
       "<div>\n",
       "<style scoped>\n",
       "    .dataframe tbody tr th:only-of-type {\n",
       "        vertical-align: middle;\n",
       "    }\n",
       "\n",
       "    .dataframe tbody tr th {\n",
       "        vertical-align: top;\n",
       "    }\n",
       "\n",
       "    .dataframe thead th {\n",
       "        text-align: right;\n",
       "    }\n",
       "</style>\n",
       "<table border=\"1\" class=\"dataframe\">\n",
       "  <thead>\n",
       "    <tr style=\"text-align: right;\">\n",
       "      <th></th>\n",
       "      <th>Class</th>\n",
       "      <th>User</th>\n",
       "      <th>X0</th>\n",
       "      <th>Y0</th>\n",
       "      <th>Z0</th>\n",
       "      <th>X1</th>\n",
       "      <th>Y1</th>\n",
       "      <th>Z1</th>\n",
       "      <th>X2</th>\n",
       "      <th>Y2</th>\n",
       "      <th>...</th>\n",
       "      <th>Z4</th>\n",
       "      <th>X5</th>\n",
       "      <th>Y5</th>\n",
       "      <th>Z5</th>\n",
       "      <th>X6</th>\n",
       "      <th>Y6</th>\n",
       "      <th>Z6</th>\n",
       "      <th>X7</th>\n",
       "      <th>Y7</th>\n",
       "      <th>Z7</th>\n",
       "    </tr>\n",
       "  </thead>\n",
       "  <tbody>\n",
       "    <tr>\n",
       "      <th>count</th>\n",
       "      <td>38943.000000</td>\n",
       "      <td>38943.000000</td>\n",
       "      <td>38943.000000</td>\n",
       "      <td>38943.000000</td>\n",
       "      <td>38943.000000</td>\n",
       "      <td>38943.000000</td>\n",
       "      <td>38943.000000</td>\n",
       "      <td>38943.000000</td>\n",
       "      <td>38943.000000</td>\n",
       "      <td>38943.000000</td>\n",
       "      <td>...</td>\n",
       "      <td>38943.000000</td>\n",
       "      <td>38943.000000</td>\n",
       "      <td>38943.000000</td>\n",
       "      <td>38943.000000</td>\n",
       "      <td>38943.000000</td>\n",
       "      <td>38943.000000</td>\n",
       "      <td>38943.000000</td>\n",
       "      <td>38943.000000</td>\n",
       "      <td>38943.000000</td>\n",
       "      <td>38943.000000</td>\n",
       "    </tr>\n",
       "    <tr>\n",
       "      <th>mean</th>\n",
       "      <td>3.533986</td>\n",
       "      <td>8.149501</td>\n",
       "      <td>51.392252</td>\n",
       "      <td>93.748418</td>\n",
       "      <td>-18.956761</td>\n",
       "      <td>48.644293</td>\n",
       "      <td>97.228337</td>\n",
       "      <td>-16.921813</td>\n",
       "      <td>46.432265</td>\n",
       "      <td>97.351512</td>\n",
       "      <td>...</td>\n",
       "      <td>-18.446645</td>\n",
       "      <td>45.392642</td>\n",
       "      <td>93.295433</td>\n",
       "      <td>-19.125065</td>\n",
       "      <td>45.201114</td>\n",
       "      <td>90.839851</td>\n",
       "      <td>-19.920157</td>\n",
       "      <td>44.463433</td>\n",
       "      <td>88.463343</td>\n",
       "      <td>-20.368719</td>\n",
       "    </tr>\n",
       "    <tr>\n",
       "      <th>std</th>\n",
       "      <td>1.332452</td>\n",
       "      <td>4.587195</td>\n",
       "      <td>34.070402</td>\n",
       "      <td>40.145995</td>\n",
       "      <td>34.976568</td>\n",
       "      <td>34.922596</td>\n",
       "      <td>38.076977</td>\n",
       "      <td>34.671422</td>\n",
       "      <td>36.395332</td>\n",
       "      <td>37.470755</td>\n",
       "      <td>...</td>\n",
       "      <td>35.597032</td>\n",
       "      <td>37.104094</td>\n",
       "      <td>39.746619</td>\n",
       "      <td>35.602273</td>\n",
       "      <td>37.556616</td>\n",
       "      <td>40.227409</td>\n",
       "      <td>34.827888</td>\n",
       "      <td>38.378395</td>\n",
       "      <td>40.503378</td>\n",
       "      <td>33.943957</td>\n",
       "    </tr>\n",
       "    <tr>\n",
       "      <th>min</th>\n",
       "      <td>1.000000</td>\n",
       "      <td>0.000000</td>\n",
       "      <td>-108.552738</td>\n",
       "      <td>-67.157904</td>\n",
       "      <td>-120.284665</td>\n",
       "      <td>-111.685241</td>\n",
       "      <td>-65.758453</td>\n",
       "      <td>-120.290858</td>\n",
       "      <td>-99.917453</td>\n",
       "      <td>-64.830342</td>\n",
       "      <td>...</td>\n",
       "      <td>-157.199089</td>\n",
       "      <td>-99.014815</td>\n",
       "      <td>-64.282645</td>\n",
       "      <td>-118.328399</td>\n",
       "      <td>-100.084275</td>\n",
       "      <td>-67.283707</td>\n",
       "      <td>-153.449813</td>\n",
       "      <td>-108.605639</td>\n",
       "      <td>-64.972157</td>\n",
       "      <td>-113.733105</td>\n",
       "    </tr>\n",
       "    <tr>\n",
       "      <th>25%</th>\n",
       "      <td>2.000000</td>\n",
       "      <td>5.000000</td>\n",
       "      <td>28.169252</td>\n",
       "      <td>74.946345</td>\n",
       "      <td>-43.598807</td>\n",
       "      <td>22.574182</td>\n",
       "      <td>79.747406</td>\n",
       "      <td>-41.210343</td>\n",
       "      <td>17.617698</td>\n",
       "      <td>81.302159</td>\n",
       "      <td>...</td>\n",
       "      <td>-45.169035</td>\n",
       "      <td>15.849890</td>\n",
       "      <td>76.376404</td>\n",
       "      <td>-46.363837</td>\n",
       "      <td>15.132050</td>\n",
       "      <td>68.915784</td>\n",
       "      <td>-46.547792</td>\n",
       "      <td>13.081363</td>\n",
       "      <td>63.541846</td>\n",
       "      <td>-45.676522</td>\n",
       "    </tr>\n",
       "    <tr>\n",
       "      <th>50%</th>\n",
       "      <td>4.000000</td>\n",
       "      <td>9.000000</td>\n",
       "      <td>54.596564</td>\n",
       "      <td>93.966079</td>\n",
       "      <td>-15.041397</td>\n",
       "      <td>52.960933</td>\n",
       "      <td>96.690641</td>\n",
       "      <td>-12.046916</td>\n",
       "      <td>51.184849</td>\n",
       "      <td>97.222693</td>\n",
       "      <td>...</td>\n",
       "      <td>-14.823751</td>\n",
       "      <td>50.160084</td>\n",
       "      <td>97.040377</td>\n",
       "      <td>-16.010237</td>\n",
       "      <td>49.968499</td>\n",
       "      <td>95.562441</td>\n",
       "      <td>-17.101080</td>\n",
       "      <td>49.601058</td>\n",
       "      <td>93.796334</td>\n",
       "      <td>-19.428819</td>\n",
       "    </tr>\n",
       "    <tr>\n",
       "      <th>75%</th>\n",
       "      <td>5.000000</td>\n",
       "      <td>12.000000</td>\n",
       "      <td>77.390834</td>\n",
       "      <td>130.932659</td>\n",
       "      <td>7.998678</td>\n",
       "      <td>75.560564</td>\n",
       "      <td>131.729311</td>\n",
       "      <td>9.065824</td>\n",
       "      <td>74.435194</td>\n",
       "      <td>130.794462</td>\n",
       "      <td>...</td>\n",
       "      <td>9.382799</td>\n",
       "      <td>73.761617</td>\n",
       "      <td>126.844621</td>\n",
       "      <td>9.031498</td>\n",
       "      <td>74.558859</td>\n",
       "      <td>123.069653</td>\n",
       "      <td>7.767866</td>\n",
       "      <td>75.721811</td>\n",
       "      <td>119.188963</td>\n",
       "      <td>6.591351</td>\n",
       "    </tr>\n",
       "    <tr>\n",
       "      <th>max</th>\n",
       "      <td>5.000000</td>\n",
       "      <td>14.000000</td>\n",
       "      <td>160.850926</td>\n",
       "      <td>169.175464</td>\n",
       "      <td>113.345119</td>\n",
       "      <td>158.783454</td>\n",
       "      <td>170.209350</td>\n",
       "      <td>104.697852</td>\n",
       "      <td>163.547310</td>\n",
       "      <td>168.186466</td>\n",
       "      <td>...</td>\n",
       "      <td>119.237203</td>\n",
       "      <td>180.563322</td>\n",
       "      <td>167.926171</td>\n",
       "      <td>110.898899</td>\n",
       "      <td>176.409004</td>\n",
       "      <td>168.598384</td>\n",
       "      <td>117.914907</td>\n",
       "      <td>189.221529</td>\n",
       "      <td>169.127359</td>\n",
       "      <td>117.815967</td>\n",
       "    </tr>\n",
       "  </tbody>\n",
       "</table>\n",
       "<p>8 rows × 26 columns</p>\n",
       "</div>"
      ],
      "text/plain": [
       "              Class          User            X0            Y0            Z0  \\\n",
       "count  38943.000000  38943.000000  38943.000000  38943.000000  38943.000000   \n",
       "mean       3.533986      8.149501     51.392252     93.748418    -18.956761   \n",
       "std        1.332452      4.587195     34.070402     40.145995     34.976568   \n",
       "min        1.000000      0.000000   -108.552738    -67.157904   -120.284665   \n",
       "25%        2.000000      5.000000     28.169252     74.946345    -43.598807   \n",
       "50%        4.000000      9.000000     54.596564     93.966079    -15.041397   \n",
       "75%        5.000000     12.000000     77.390834    130.932659      7.998678   \n",
       "max        5.000000     14.000000    160.850926    169.175464    113.345119   \n",
       "\n",
       "                 X1            Y1            Z1            X2            Y2  \\\n",
       "count  38943.000000  38943.000000  38943.000000  38943.000000  38943.000000   \n",
       "mean      48.644293     97.228337    -16.921813     46.432265     97.351512   \n",
       "std       34.922596     38.076977     34.671422     36.395332     37.470755   \n",
       "min     -111.685241    -65.758453   -120.290858    -99.917453    -64.830342   \n",
       "25%       22.574182     79.747406    -41.210343     17.617698     81.302159   \n",
       "50%       52.960933     96.690641    -12.046916     51.184849     97.222693   \n",
       "75%       75.560564    131.729311      9.065824     74.435194    130.794462   \n",
       "max      158.783454    170.209350    104.697852    163.547310    168.186466   \n",
       "\n",
       "           ...                 Z4            X5            Y5            Z5  \\\n",
       "count      ...       38943.000000  38943.000000  38943.000000  38943.000000   \n",
       "mean       ...         -18.446645     45.392642     93.295433    -19.125065   \n",
       "std        ...          35.597032     37.104094     39.746619     35.602273   \n",
       "min        ...        -157.199089    -99.014815    -64.282645   -118.328399   \n",
       "25%        ...         -45.169035     15.849890     76.376404    -46.363837   \n",
       "50%        ...         -14.823751     50.160084     97.040377    -16.010237   \n",
       "75%        ...           9.382799     73.761617    126.844621      9.031498   \n",
       "max        ...         119.237203    180.563322    167.926171    110.898899   \n",
       "\n",
       "                 X6            Y6            Z6            X7            Y7  \\\n",
       "count  38943.000000  38943.000000  38943.000000  38943.000000  38943.000000   \n",
       "mean      45.201114     90.839851    -19.920157     44.463433     88.463343   \n",
       "std       37.556616     40.227409     34.827888     38.378395     40.503378   \n",
       "min     -100.084275    -67.283707   -153.449813   -108.605639    -64.972157   \n",
       "25%       15.132050     68.915784    -46.547792     13.081363     63.541846   \n",
       "50%       49.968499     95.562441    -17.101080     49.601058     93.796334   \n",
       "75%       74.558859    123.069653      7.767866     75.721811    119.188963   \n",
       "max      176.409004    168.598384    117.914907    189.221529    169.127359   \n",
       "\n",
       "                 Z7  \n",
       "count  38943.000000  \n",
       "mean     -20.368719  \n",
       "std       33.943957  \n",
       "min     -113.733105  \n",
       "25%      -45.676522  \n",
       "50%      -19.428819  \n",
       "75%        6.591351  \n",
       "max      117.815967  \n",
       "\n",
       "[8 rows x 26 columns]"
      ]
     },
     "execution_count": 118,
     "metadata": {},
     "output_type": "execute_result"
    }
   ],
   "source": [
    "postures_df.describe()"
   ]
  },
  {
   "cell_type": "code",
   "execution_count": 119,
   "metadata": {},
   "outputs": [
    {
     "name": "stderr",
     "output_type": "stream",
     "text": [
      "/usr/share/anaconda3/lib/python3.6/site-packages/ipykernel_launcher.py:1: SettingWithCopyWarning: \n",
      "A value is trying to be set on a copy of a slice from a DataFrame\n",
      "\n",
      "See the caveats in the documentation: http://pandas.pydata.org/pandas-docs/stable/indexing.html#indexing-view-versus-copy\n",
      "  \"\"\"Entry point for launching an IPython kernel.\n"
     ]
    }
   ],
   "source": [
    "postures_df['User'][postures_df['User']<=2] = postures_df['User']+1"
   ]
  },
  {
   "cell_type": "code",
   "execution_count": 120,
   "metadata": {},
   "outputs": [
    {
     "data": {
      "text/plain": [
       "array([ 1,  2,  3,  4,  5,  6,  7,  8,  9, 10, 11, 12, 13, 14])"
      ]
     },
     "execution_count": 120,
     "metadata": {},
     "output_type": "execute_result"
    }
   ],
   "source": [
    "postures_df['User'].unique()"
   ]
  },
  {
   "cell_type": "markdown",
   "metadata": {},
   "source": [
    "<div class='exercise'>Problem 1: Clustering with k-means </div>\n",
    "\n",
    "(a) After appropriate pre-processing run the k-means clustering algorithm, using the function `r_stats.kmeans`, with the number of clusters corresponding to the number of users, `n_start` of 46, and 109 as the random seed. Add the result as a new column called `Cluster14` to your data frame."
   ]
  },
  {
   "cell_type": "markdown",
   "metadata": {},
   "source": [
    "### Solution 1(a)"
   ]
  },
  {
   "cell_type": "code",
   "execution_count": 121,
   "metadata": {},
   "outputs": [],
   "source": [
    "postures_df['Class'] = postures_df['Class'].astype('str')\n",
    "postures_df['User'] = postures_df['User'].astype('str')"
   ]
  },
  {
   "cell_type": "code",
   "execution_count": 122,
   "metadata": {},
   "outputs": [],
   "source": [
    "df_cols = list(set(postures_df.columns)^set(['User']))\n",
    "py_postures_df = postures_df[df_cols]"
   ]
  },
  {
   "cell_type": "code",
   "execution_count": 123,
   "metadata": {},
   "outputs": [
    {
     "data": {
      "text/html": [
       "\n",
       "    <span>ListVector with 9 elements.</span>\n",
       "    <table>\n",
       "      <tbody>\n",
       "      \n",
       "      <tr>\n",
       "      <th>\n",
       "        cluster\n",
       "      </th>\n",
       "      <td>\n",
       "        \n",
       "    <span>IntVector with 38943 elements.</span>\n",
       "    <table>\n",
       "      <tbody>\n",
       "      <tr>\n",
       "      \n",
       "      <td>\n",
       "        10\n",
       "      </td>\n",
       "      \n",
       "      <td>\n",
       "        1\n",
       "      </td>\n",
       "      \n",
       "      <td>\n",
       "        6\n",
       "      </td>\n",
       "      \n",
       "      <td>\n",
       "        2\n",
       "      </td>\n",
       "      \n",
       "      <td>\n",
       "        ...\n",
       "      </td>\n",
       "      \n",
       "      <td>\n",
       "        3\n",
       "      </td>\n",
       "      \n",
       "      <td>\n",
       "        3\n",
       "      </td>\n",
       "      \n",
       "      <td>\n",
       "        3\n",
       "      </td>\n",
       "      \n",
       "      <td>\n",
       "        3\n",
       "      </td>\n",
       "      \n",
       "      </tr>\n",
       "      </tbody>\n",
       "    </table>\n",
       "    \n",
       "      </td>\n",
       "      </tr>\n",
       "      \n",
       "      <tr>\n",
       "      <th>\n",
       "        centers\n",
       "      </th>\n",
       "      <td>\n",
       "        \n",
       "    <span>Matrix with 350 elements.</span>\n",
       "    <table>\n",
       "      <tbody>\n",
       "      <tr>\n",
       "      \n",
       "      <td>\n",
       "        -17.595346\n",
       "      </td>\n",
       "      \n",
       "      <td>\n",
       "        -18.526532\n",
       "      </td>\n",
       "      \n",
       "      <td>\n",
       "        -26.583690\n",
       "      </td>\n",
       "      \n",
       "      <td>\n",
       "        19.015981\n",
       "      </td>\n",
       "      \n",
       "      <td>\n",
       "        ...\n",
       "      </td>\n",
       "      \n",
       "      <td>\n",
       "        88.764049\n",
       "      </td>\n",
       "      \n",
       "      <td>\n",
       "        102.962996\n",
       "      </td>\n",
       "      \n",
       "      <td>\n",
       "        113.426087\n",
       "      </td>\n",
       "      \n",
       "      <td>\n",
       "        101.805820\n",
       "      </td>\n",
       "      \n",
       "      </tr>\n",
       "      </tbody>\n",
       "    </table>\n",
       "    \n",
       "      </td>\n",
       "      </tr>\n",
       "      \n",
       "      <tr>\n",
       "      <th>\n",
       "        totss\n",
       "      </th>\n",
       "      <td>\n",
       "        \n",
       "    <span>FloatVector with 1 elements.</span>\n",
       "    <table>\n",
       "      <tbody>\n",
       "      <tr>\n",
       "      \n",
       "      <td>\n",
       "        1275965137.409508\n",
       "      </td>\n",
       "      \n",
       "      </tr>\n",
       "      </tbody>\n",
       "    </table>\n",
       "    \n",
       "      </td>\n",
       "      </tr>\n",
       "      \n",
       "      <tr>\n",
       "      <th>\n",
       "        ...\n",
       "      </th>\n",
       "      <td>\n",
       "        ...\n",
       "      </td>\n",
       "      </tr>\n",
       "      \n",
       "      <tr>\n",
       "      <th>\n",
       "        size\n",
       "      </th>\n",
       "      <td>\n",
       "        \n",
       "    <span>IntVector with 14 elements.</span>\n",
       "    <table>\n",
       "      <tbody>\n",
       "      <tr>\n",
       "      \n",
       "      <td>\n",
       "        2,797\n",
       "      </td>\n",
       "      \n",
       "      <td>\n",
       "        2,538\n",
       "      </td>\n",
       "      \n",
       "      <td>\n",
       "        3,798\n",
       "      </td>\n",
       "      \n",
       "      <td>\n",
       "        3,414\n",
       "      </td>\n",
       "      \n",
       "      <td>\n",
       "        ...\n",
       "      </td>\n",
       "      \n",
       "      <td>\n",
       "        3,596\n",
       "      </td>\n",
       "      \n",
       "      <td>\n",
       "        1,868\n",
       "      </td>\n",
       "      \n",
       "      <td>\n",
       "        2,434\n",
       "      </td>\n",
       "      \n",
       "      <td>\n",
       "        2,028\n",
       "      </td>\n",
       "      \n",
       "      </tr>\n",
       "      </tbody>\n",
       "    </table>\n",
       "    \n",
       "      </td>\n",
       "      </tr>\n",
       "      \n",
       "      <tr>\n",
       "      <th>\n",
       "        iter\n",
       "      </th>\n",
       "      <td>\n",
       "        \n",
       "    <span>IntVector with 1 elements.</span>\n",
       "    <table>\n",
       "      <tbody>\n",
       "      <tr>\n",
       "      \n",
       "      <td>\n",
       "        10\n",
       "      </td>\n",
       "      \n",
       "      </tr>\n",
       "      </tbody>\n",
       "    </table>\n",
       "    \n",
       "      </td>\n",
       "      </tr>\n",
       "      \n",
       "      <tr>\n",
       "      <th>\n",
       "        ifault\n",
       "      </th>\n",
       "      <td>\n",
       "        \n",
       "    <span>IntVector with 1 elements.</span>\n",
       "    <table>\n",
       "      <tbody>\n",
       "      <tr>\n",
       "      \n",
       "      <td>\n",
       "        0\n",
       "      </td>\n",
       "      \n",
       "      </tr>\n",
       "      </tbody>\n",
       "    </table>\n",
       "    \n",
       "      </td>\n",
       "      </tr>\n",
       "      \n",
       "      </tbody>\n",
       "    </table>\n",
       "    "
      ],
      "text/plain": [
       "R object with classes: ('kmeans',) mapped to:\n",
       "<ListVector - Python:0x7f02c064ed08 / R:0x56143ddbca68>\n",
       "[IntVector, Matrix, FloatVector, FloatVector, ..., FloatVector, IntVector, IntVector, IntVector]\n",
       "  cluster: <class 'rpy2.robjects.vectors.IntVector'>\n",
       "  R object with classes: ('integer',) mapped to:\n",
       "<IntVector - Python:0x7f02c064ea88 / R:0x56143f046080>\n",
       "[10, 1, 6, 2, ..., 3, 3, 3, 3]\n",
       "  centers: <class 'rpy2.robjects.vectors.Matrix'>\n",
       "  R object with classes: ('matrix',) mapped to:\n",
       "<Matrix - Python:0x7f02c06f7908 / R:0x5614364750c0>\n",
       "[-17.595346, -18.526532, -26.583690, 19.015981, ..., 88.764049, 102.962996, 113.426087, 101.805820]\n",
       "  totss: <class 'rpy2.robjects.vectors.FloatVector'>\n",
       "  R object with classes: ('numeric',) mapped to:\n",
       "<FloatVector - Python:0x7f02c06f7b48 / R:0x561438258cd8>\n",
       "[1275965137.409508]\n",
       "  withinss: <class 'rpy2.robjects.vectors.FloatVector'>\n",
       "  R object with classes: ('numeric',) mapped to:\n",
       "<FloatVector - Python:0x7f02c06f7c88 / R:0x56143ddbcdd8>\n",
       "[65157323.680058, 61061737.307299, 73048786.072179, 62265673.228840, ..., 88769344.378709, 42777471.176712, 52794086.267709, 44208833.710630]\n",
       "  tot.withinss: <class 'rpy2.robjects.vectors.FloatVector'>\n",
       "  R object with classes: ('numeric',) mapped to:\n",
       "<FloatVector - Python:0x7f02c064e688 / R:0x56143825a478>\n",
       "[878903613.740010]\n",
       "  betweenss: <class 'rpy2.robjects.vectors.FloatVector'>\n",
       "  R object with classes: ('numeric',) mapped to:\n",
       "<FloatVector - Python:0x7f02c064e588 / R:0x561438258d10>\n",
       "[397061523.669498]\n",
       "  size: <class 'rpy2.robjects.vectors.IntVector'>\n",
       "  R object with classes: ('integer',) mapped to:\n",
       "<IntVector - Python:0x7f02c064edc8 / R:0x5614368dc388>\n",
       "[2,797, 2,538, 3,798, 3,414, ..., 3,596, 1,868, 2,434, 2,028]\n",
       "  iter: <class 'rpy2.robjects.vectors.IntVector'>\n",
       "  R object with classes: ('integer',) mapped to:\n",
       "<IntVector - Python:0x7f02c064ec08 / R:0x56143825a360>\n",
       "[10]\n",
       "  ifault: <class 'rpy2.robjects.vectors.IntVector'>\n",
       "  R object with classes: ('integer',) mapped to:\n",
       "<IntVector - Python:0x7f02c064e7c8 / R:0x56143825a280>\n",
       "[0]"
      ]
     },
     "metadata": {},
     "output_type": "display_data"
    },
    {
     "data": {
      "text/plain": [
       "['cluster',\n",
       " 'centers',\n",
       " 'totss',\n",
       " 'withinss',\n",
       " 'tot.withinss',\n",
       " 'betweenss',\n",
       " 'size',\n",
       " 'iter',\n",
       " 'ifault']"
      ]
     },
     "metadata": {},
     "output_type": "display_data"
    }
   ],
   "source": [
    "#your code here\n",
    "clusters = len(postures_df['User'].unique())\n",
    "random.seed(109)\n",
    "kmeans_out14 = r_stats.kmeans(py_postures_df, centers=clusters, nstart=46)\n",
    "display(kmeans_out14)\n",
    "display(list(kmeans_out14.names))"
   ]
  },
  {
   "cell_type": "code",
   "execution_count": 124,
   "metadata": {},
   "outputs": [],
   "source": [
    "postures_df['Cluster14'] = np.array(kmeans_out14.rx2(\"cluster\"))"
   ]
  },
  {
   "cell_type": "markdown",
   "metadata": {},
   "source": [
    "(b) Now visualize the results for k-means on a random sample of 2,000 observations without replacement (setting 109 as the random seed when sampling), using the function `r_factoextra.fviz_cluster`. Does 14 clusters seem to make sense?"
   ]
  },
  {
   "cell_type": "markdown",
   "metadata": {},
   "source": [
    "### Solution 1(b)"
   ]
  },
  {
   "cell_type": "code",
   "execution_count": 98,
   "metadata": {},
   "outputs": [],
   "source": [
    "random.seed(109)\n",
    "sample = np.random.choice(a=postures_df.index, size=2000, replace=False)\n",
    "r_sample = rpy2.robjects.IntVector(sample+1)"
   ]
  },
  {
   "cell_type": "code",
   "execution_count": 103,
   "metadata": {},
   "outputs": [],
   "source": [
    "num_cols = \n",
    "df_dict = dict(py_postures_df)\n",
    "r_postures_df = rpy2.robjects.DataFrame(df_dict)\n",
    "r_postures_sample = r_postures_df.rx(r_sample, True)"
   ]
  },
  {
   "cell_type": "code",
   "execution_count": 104,
   "metadata": {},
   "outputs": [
    {
     "data": {
      "text/html": [
       "\n",
       "    <span>IntVector with 2000 elements.</span>\n",
       "    <table>\n",
       "      <tbody>\n",
       "      <tr>\n",
       "      \n",
       "      <td>\n",
       "        4\n",
       "      </td>\n",
       "      \n",
       "      <td>\n",
       "        2\n",
       "      </td>\n",
       "      \n",
       "      <td>\n",
       "        4\n",
       "      </td>\n",
       "      \n",
       "      <td>\n",
       "        14\n",
       "      </td>\n",
       "      \n",
       "      <td>\n",
       "        ...\n",
       "      </td>\n",
       "      \n",
       "      <td>\n",
       "        11\n",
       "      </td>\n",
       "      \n",
       "      <td>\n",
       "        10\n",
       "      </td>\n",
       "      \n",
       "      <td>\n",
       "        3\n",
       "      </td>\n",
       "      \n",
       "      <td>\n",
       "        12\n",
       "      </td>\n",
       "      \n",
       "      </tr>\n",
       "      </tbody>\n",
       "    </table>\n",
       "    "
      ],
      "text/plain": [
       "R object with classes: ('integer',) mapped to:\n",
       "<IntVector - Python:0x7f02c10e4408 / R:0x561438f7ffd0>\n",
       "[4, 2, 4, 14, ..., 11, 10, 3, 12]"
      ]
     },
     "execution_count": 104,
     "metadata": {},
     "output_type": "execute_result"
    }
   ],
   "source": [
    "km_sample14 = kmeans_out14.rx2('cluster').rx(r_sample)\n",
    "km_sample14"
   ]
  },
  {
   "cell_type": "code",
   "execution_count": 105,
   "metadata": {},
   "outputs": [
    {
     "name": "stdout",
     "output_type": "stream",
     "text": [
      "The rpy2.ipython extension is already loaded. To reload it, use:\n",
      "  %reload_ext rpy2.ipython\n"
     ]
    }
   ],
   "source": [
    "#your code here\n",
    "%load_ext rpy2.ipython"
   ]
  },
  {
   "cell_type": "code",
   "execution_count": 106,
   "metadata": {},
   "outputs": [
    {
     "name": "stdout",
     "output_type": "stream",
     "text": [
      "\n",
      "Error in colMeans(x, na.rm = TRUE) : 'x' must be numeric\n"
     ]
    },
    {
     "name": "stderr",
     "output_type": "stream",
     "text": [
      "/usr/share/anaconda3/lib/python3.6/site-packages/rpy2/robjects/pandas2ri.py:191: FutureWarning: from_items is deprecated. Please use DataFrame.from_dict(dict(items), ...) instead. DataFrame.from_dict(OrderedDict(items)) may be used to preserve the key order.\n",
      "  res = PandasDataFrame.from_items(items)\n",
      "/usr/share/anaconda3/lib/python3.6/site-packages/rpy2/rinterface/__init__.py:146: RRuntimeWarning: Error in colMeans(x, na.rm = TRUE) : 'x' must be numeric\n",
      "\n",
      "  warnings.warn(x, RRuntimeWarning)\n"
     ]
    }
   ],
   "source": [
    "%%R -i km_sample14 -i r_postures_sample\n",
    "#fviz_cluster(km_sample14, data=r_postures_sample, geom='point')\n",
    "fviz_cluster(list(data=r_postures_sample, cluster=km_sample14), geom='point')"
   ]
  },
  {
   "cell_type": "markdown",
   "metadata": {},
   "source": [
    "**Answer:**\n",
    "\n"
   ]
  },
  {
   "cell_type": "markdown",
   "metadata": {},
   "source": [
    "(c) Compare the results from your clustering algorithm to the actual users for the entire dataset. To do this :\n",
    "\n",
    "(i) calculate the Gini coefficient for each cluster, and also report the average Gini coefficient for the clustering method. For $K$ total labels, the Gini coefficient for each cluster is given by $$1 - \\sum_{i=1}^K p_i^2,$$ where $p_i$ is the proportion of data point with label $i$ in the cluster (given that there are also $K$ clusters, e.g., 14 people and 14 clusters). \n",
    "\n",
    "(ii) calculate the entropy of each cluster, where entropy is defined as $$-\\sum_{i=1}^K p_i \\log p_i,$$ and also report the average entropy.\n",
    "\n",
    "Hint: be careful, because r_stats.kmeans returns cluster numbers beginning with 1."
   ]
  },
  {
   "cell_type": "markdown",
   "metadata": {},
   "source": [
    "### Solution 1(c)(i)"
   ]
  },
  {
   "cell_type": "code",
   "execution_count": 68,
   "metadata": {},
   "outputs": [
    {
     "data": {
      "text/plain": [
       "array([ 1,  2,  3,  4,  5,  6,  7,  8,  9, 10, 11, 12, 13, 14])"
      ]
     },
     "metadata": {},
     "output_type": "display_data"
    },
    {
     "data": {
      "text/plain": [
       "array([ 6,  5, 14, 12,  2,  9,  8, 11, 13,  4,  3,  1, 10,  7])"
      ]
     },
     "metadata": {},
     "output_type": "display_data"
    }
   ],
   "source": [
    "display(postures_df['User'].unique())\n",
    "display(postures_df['Cluster14'].unique())"
   ]
  },
  {
   "cell_type": "code",
   "execution_count": 69,
   "metadata": {},
   "outputs": [],
   "source": [
    "gini = {}\n",
    "p_i = {}\n",
    "for i in postures_df['Cluster14'].unique():\n",
    "    df_gb = postures_df[postures_df['Cluster14']==i].groupby(by='User')\n",
    "    num = df_gb['User'].count()\n",
    "    den = postures_df[postures_df['Cluster14']==i].shape[0]\n",
    "    p_i[i] = num/den\n",
    "    gini[i]= 1-np.sum(p_i[i]**2)"
   ]
  },
  {
   "cell_type": "code",
   "execution_count": 70,
   "metadata": {},
   "outputs": [
    {
     "data": {
      "text/plain": [
       "{6: 0.8457381511581057,\n",
       " 5: 0.8859957421591447,\n",
       " 14: 0.8979391471630378,\n",
       " 12: 0.8986292449892812,\n",
       " 2: 0.8944672844822128,\n",
       " 9: 0.8999079716534227,\n",
       " 8: 0.8971589335864879,\n",
       " 11: 0.8330719025045744,\n",
       " 13: 0.872026098913708,\n",
       " 4: 0.9004638393853244,\n",
       " 3: 0.8925407407407407,\n",
       " 1: 0.8072986369423529,\n",
       " 10: 0.894903786628877,\n",
       " 7: 0.8362384788659272}"
      ]
     },
     "execution_count": 70,
     "metadata": {},
     "output_type": "execute_result"
    }
   ],
   "source": [
    "gini"
   ]
  },
  {
   "cell_type": "markdown",
   "metadata": {},
   "source": [
    "### Solution 1(c)(ii)"
   ]
  },
  {
   "cell_type": "code",
   "execution_count": 71,
   "metadata": {},
   "outputs": [],
   "source": [
    "entropy = {}\n",
    "for i in list(p_i.keys()):\n",
    "    entropy[i] = -np.sum(p_i[i]*np.log(p_i[i]))"
   ]
  },
  {
   "cell_type": "code",
   "execution_count": 72,
   "metadata": {},
   "outputs": [
    {
     "data": {
      "text/plain": [
       "{6: 2.0663379639474706,\n",
       " 5: 2.32646381599375,\n",
       " 14: 2.4003699509170002,\n",
       " 12: 2.3972172647256444,\n",
       " 2: 2.3799987268524094,\n",
       " 9: 2.4014271282875765,\n",
       " 8: 2.3596393808036247,\n",
       " 11: 1.9827454569614227,\n",
       " 13: 2.263632748235938,\n",
       " 4: 2.413662293374985,\n",
       " 3: 2.3707246305413556,\n",
       " 1: 1.9799922690887737,\n",
       " 10: 2.3562934548461194,\n",
       " 7: 2.0066031394621207}"
      ]
     },
     "execution_count": 72,
     "metadata": {},
     "output_type": "execute_result"
    }
   ],
   "source": [
    "entropy"
   ]
  },
  {
   "cell_type": "code",
   "execution_count": null,
   "metadata": {},
   "outputs": [],
   "source": []
  },
  {
   "cell_type": "markdown",
   "metadata": {},
   "source": [
    "(d) Repeat all of the above steps, but group by posture rather than by user. That is : \n",
    "\n",
    "(i) Run the k-means algorithm with 5 centroids instead of 14, creating a variable named `Cluster5` and adding it to the dataset. \n",
    "\n",
    "(ii) Visualize the results for k-means on a random sample of 2,000 observations without replacement (setting 109 as the random seed when sampling), using the function `r_factoextra.fviz_cluster`. Does 5 clusters seem to make sense?\n",
    "\n",
    "(iii) Calculate the Gini coefficient for each cluster, and also report the average Gini coefficient.\n",
    "\n",
    "(iv) Calculate the entropy of each cluster, and also report the average entropy. \n"
   ]
  },
  {
   "cell_type": "markdown",
   "metadata": {},
   "source": [
    "### Solution 1(d)"
   ]
  },
  {
   "cell_type": "markdown",
   "metadata": {},
   "source": [
    "### (i)"
   ]
  },
  {
   "cell_type": "code",
   "execution_count": 73,
   "metadata": {},
   "outputs": [
    {
     "data": {
      "text/html": [
       "\n",
       "    <span>ListVector with 9 elements.</span>\n",
       "    <table>\n",
       "      <tbody>\n",
       "      \n",
       "      <tr>\n",
       "      <th>\n",
       "        cluster\n",
       "      </th>\n",
       "      <td>\n",
       "        \n",
       "    <span>IntVector with 38943 elements.</span>\n",
       "    <table>\n",
       "      <tbody>\n",
       "      <tr>\n",
       "      \n",
       "      <td>\n",
       "        3\n",
       "      </td>\n",
       "      \n",
       "      <td>\n",
       "        2\n",
       "      </td>\n",
       "      \n",
       "      <td>\n",
       "        4\n",
       "      </td>\n",
       "      \n",
       "      <td>\n",
       "        4\n",
       "      </td>\n",
       "      \n",
       "      <td>\n",
       "        ...\n",
       "      </td>\n",
       "      \n",
       "      <td>\n",
       "        1\n",
       "      </td>\n",
       "      \n",
       "      <td>\n",
       "        3\n",
       "      </td>\n",
       "      \n",
       "      <td>\n",
       "        1\n",
       "      </td>\n",
       "      \n",
       "      <td>\n",
       "        1\n",
       "      </td>\n",
       "      \n",
       "      </tr>\n",
       "      </tbody>\n",
       "    </table>\n",
       "    \n",
       "      </td>\n",
       "      </tr>\n",
       "      \n",
       "      <tr>\n",
       "      <th>\n",
       "        centers\n",
       "      </th>\n",
       "      <td>\n",
       "        \n",
       "    <span>Matrix with 130 elements.</span>\n",
       "    <table>\n",
       "      <tbody>\n",
       "      <tr>\n",
       "      \n",
       "      <td>\n",
       "        -19.289874\n",
       "      </td>\n",
       "      \n",
       "      <td>\n",
       "        -59.332208\n",
       "      </td>\n",
       "      \n",
       "      <td>\n",
       "        -10.864610\n",
       "      </td>\n",
       "      \n",
       "      <td>\n",
       "        -25.433714\n",
       "      </td>\n",
       "      \n",
       "      <td>\n",
       "        ...\n",
       "      </td>\n",
       "      \n",
       "      <td>\n",
       "        9.883033\n",
       "      </td>\n",
       "      \n",
       "      <td>\n",
       "        8.539438\n",
       "      </td>\n",
       "      \n",
       "      <td>\n",
       "        7.243492\n",
       "      </td>\n",
       "      \n",
       "      <td>\n",
       "        5.985159\n",
       "      </td>\n",
       "      \n",
       "      </tr>\n",
       "      </tbody>\n",
       "    </table>\n",
       "    \n",
       "      </td>\n",
       "      </tr>\n",
       "      \n",
       "      <tr>\n",
       "      <th>\n",
       "        totss\n",
       "      </th>\n",
       "      <td>\n",
       "        \n",
       "    <span>FloatVector with 1 elements.</span>\n",
       "    <table>\n",
       "      <tbody>\n",
       "      <tr>\n",
       "      \n",
       "      <td>\n",
       "        1276565354.999138\n",
       "      </td>\n",
       "      \n",
       "      </tr>\n",
       "      </tbody>\n",
       "    </table>\n",
       "    \n",
       "      </td>\n",
       "      </tr>\n",
       "      \n",
       "      <tr>\n",
       "      <th>\n",
       "        ...\n",
       "      </th>\n",
       "      <td>\n",
       "        ...\n",
       "      </td>\n",
       "      </tr>\n",
       "      \n",
       "      <tr>\n",
       "      <th>\n",
       "        size\n",
       "      </th>\n",
       "      <td>\n",
       "        \n",
       "    <span>IntVector with 5 elements.</span>\n",
       "    <table>\n",
       "      <tbody>\n",
       "      <tr>\n",
       "      \n",
       "      <td>\n",
       "        9,542\n",
       "      </td>\n",
       "      \n",
       "      <td>\n",
       "        7,002\n",
       "      </td>\n",
       "      \n",
       "      <td>\n",
       "        6,935\n",
       "      </td>\n",
       "      \n",
       "      <td>\n",
       "        6,300\n",
       "      </td>\n",
       "      \n",
       "      <td>\n",
       "        9,164\n",
       "      </td>\n",
       "      \n",
       "      </tr>\n",
       "      </tbody>\n",
       "    </table>\n",
       "    \n",
       "      </td>\n",
       "      </tr>\n",
       "      \n",
       "      <tr>\n",
       "      <th>\n",
       "        iter\n",
       "      </th>\n",
       "      <td>\n",
       "        \n",
       "    <span>IntVector with 1 elements.</span>\n",
       "    <table>\n",
       "      <tbody>\n",
       "      <tr>\n",
       "      \n",
       "      <td>\n",
       "        6\n",
       "      </td>\n",
       "      \n",
       "      </tr>\n",
       "      </tbody>\n",
       "    </table>\n",
       "    \n",
       "      </td>\n",
       "      </tr>\n",
       "      \n",
       "      <tr>\n",
       "      <th>\n",
       "        ifault\n",
       "      </th>\n",
       "      <td>\n",
       "        \n",
       "    <span>IntVector with 1 elements.</span>\n",
       "    <table>\n",
       "      <tbody>\n",
       "      <tr>\n",
       "      \n",
       "      <td>\n",
       "        0\n",
       "      </td>\n",
       "      \n",
       "      </tr>\n",
       "      </tbody>\n",
       "    </table>\n",
       "    \n",
       "      </td>\n",
       "      </tr>\n",
       "      \n",
       "      </tbody>\n",
       "    </table>\n",
       "    "
      ],
      "text/plain": [
       "R object with classes: ('kmeans',) mapped to:\n",
       "<ListVector - Python:0x7f02d44b7d48 / R:0x5614410f3538>\n",
       "[IntVector, Matrix, FloatVector, FloatVector, ..., FloatVector, IntVector, IntVector, IntVector]\n",
       "  cluster: <class 'rpy2.robjects.vectors.IntVector'>\n",
       "  R object with classes: ('integer',) mapped to:\n",
       "<IntVector - Python:0x7f02d44c8448 / R:0x561440dde8f0>\n",
       "[3, 2, 4, 4, ..., 1, 3, 1, 1]\n",
       "  centers: <class 'rpy2.robjects.vectors.Matrix'>\n",
       "  R object with classes: ('matrix',) mapped to:\n",
       "<Matrix - Python:0x7f02d3ae1188 / R:0x561436890220>\n",
       "[-19.289874, -59.332208, -10.864610, -25.433714, ..., 9.883033, 8.539438, 7.243492, 5.985159]\n",
       "  totss: <class 'rpy2.robjects.vectors.FloatVector'>\n",
       "  R object with classes: ('numeric',) mapped to:\n",
       "<FloatVector - Python:0x7f02d44b7c88 / R:0x561438259db0>\n",
       "[1276565354.999138]\n",
       "  withinss: <class 'rpy2.robjects.vectors.FloatVector'>\n",
       "  R object with classes: ('numeric',) mapped to:\n",
       "<FloatVector - Python:0x7f03428dd308 / R:0x56143923d398>\n",
       "[269550224.180847, 191655943.476951, 186371584.443374, 173148046.003347, 208369142.148781]\n",
       "  tot.withinss: <class 'rpy2.robjects.vectors.FloatVector'>\n",
       "  R object with classes: ('numeric',) mapped to:\n",
       "<FloatVector - Python:0x7f03428dd088 / R:0x561437815bd0>\n",
       "[1029094940.253300]\n",
       "  betweenss: <class 'rpy2.robjects.vectors.FloatVector'>\n",
       "  R object with classes: ('numeric',) mapped to:\n",
       "<FloatVector - Python:0x7f02d44b0f88 / R:0x561438259e20>\n",
       "[247470414.745838]\n",
       "  size: <class 'rpy2.robjects.vectors.IntVector'>\n",
       "  R object with classes: ('integer',) mapped to:\n",
       "<IntVector - Python:0x7f03428dd808 / R:0x5614381aa958>\n",
       "[9,542, 7,002, 6,935, 6,300, 9,164]\n",
       "  iter: <class 'rpy2.robjects.vectors.IntVector'>\n",
       "  R object with classes: ('integer',) mapped to:\n",
       "<IntVector - Python:0x7f02d44b04c8 / R:0x561437725d90>\n",
       "[6]\n",
       "  ifault: <class 'rpy2.robjects.vectors.IntVector'>\n",
       "  R object with classes: ('integer',) mapped to:\n",
       "<IntVector - Python:0x7f02d44b0748 / R:0x5614378befd0>\n",
       "[0]"
      ]
     },
     "execution_count": 73,
     "metadata": {},
     "output_type": "execute_result"
    }
   ],
   "source": [
    "#your code here  \n",
    "clusters = len(postures_df['Class'].unique())\n",
    "random.seed(109)\n",
    "kmeans_out5 = r_stats.kmeans(py_postures_df, centers=clusters, nstart=46)\n",
    "kmeans_out5"
   ]
  },
  {
   "cell_type": "code",
   "execution_count": 74,
   "metadata": {},
   "outputs": [],
   "source": [
    "#your code here\n",
    "postures_df['Cluster5'] = np.array(kmeans_out5.rx2(\"cluster\"))"
   ]
  },
  {
   "cell_type": "markdown",
   "metadata": {},
   "source": [
    "### (ii)"
   ]
  },
  {
   "cell_type": "code",
   "execution_count": 75,
   "metadata": {},
   "outputs": [
    {
     "data": {
      "text/html": [
       "\n",
       "    <span>IntVector with 2000 elements.</span>\n",
       "    <table>\n",
       "      <tbody>\n",
       "      <tr>\n",
       "      \n",
       "      <td>\n",
       "        5\n",
       "      </td>\n",
       "      \n",
       "      <td>\n",
       "        2\n",
       "      </td>\n",
       "      \n",
       "      <td>\n",
       "        4\n",
       "      </td>\n",
       "      \n",
       "      <td>\n",
       "        4\n",
       "      </td>\n",
       "      \n",
       "      <td>\n",
       "        ...\n",
       "      </td>\n",
       "      \n",
       "      <td>\n",
       "        4\n",
       "      </td>\n",
       "      \n",
       "      <td>\n",
       "        1\n",
       "      </td>\n",
       "      \n",
       "      <td>\n",
       "        1\n",
       "      </td>\n",
       "      \n",
       "      <td>\n",
       "        5\n",
       "      </td>\n",
       "      \n",
       "      </tr>\n",
       "      </tbody>\n",
       "    </table>\n",
       "    "
      ],
      "text/plain": [
       "R object with classes: ('integer',) mapped to:\n",
       "<IntVector - Python:0x7f03400240c8 / R:0x56143a8c5100>\n",
       "[5, 2, 4, 4, ..., 4, 1, 1, 5]"
      ]
     },
     "execution_count": 75,
     "metadata": {},
     "output_type": "execute_result"
    }
   ],
   "source": [
    "#your code here\n",
    "km_sample5 = kmeans_out5.rx2('cluster').rx(r_sample)\n",
    "km_sample5"
   ]
  },
  {
   "cell_type": "code",
   "execution_count": 76,
   "metadata": {},
   "outputs": [
    {
     "data": {
      "image/png": "[encoded data removed]"
     },
     "metadata": {},
     "output_type": "display_data"
    }
   ],
   "source": [
    "%%R -i km_sample5 -i r_postures_sample\n",
    "#fviz_cluster(km_sample14, data=r_postures_sample, geom='point')\n",
    "fviz_cluster(list(data=r_postures_sample, cluster=km_sample5), geom='point')"
   ]
  },
  {
   "cell_type": "markdown",
   "metadata": {},
   "source": [
    "### (iii)"
   ]
  },
  {
   "cell_type": "code",
   "execution_count": 77,
   "metadata": {},
   "outputs": [],
   "source": [
    "gini = {}\n",
    "p_i = {}\n",
    "for i in postures_df['Cluster5'].unique():\n",
    "    df_gb = postures_df[postures_df['Cluster5']==i].groupby(by='User')\n",
    "    num = df_gb['User'].count()\n",
    "    den = postures_df[postures_df['Cluster5']==i].shape[0]\n",
    "    p_i[i] = num/den\n",
    "    gini[i]= 1-np.sum(p_i[i]**2)"
   ]
  },
  {
   "cell_type": "code",
   "execution_count": 78,
   "metadata": {},
   "outputs": [
    {
     "data": {
      "text/plain": [
       "{3: 0.9061946626648002,\n",
       " 2: 0.9050288076177851,\n",
       " 4: 0.9035487528344671,\n",
       " 5: 0.8664865992046382,\n",
       " 1: 0.8743277357643673}"
      ]
     },
     "execution_count": 78,
     "metadata": {},
     "output_type": "execute_result"
    }
   ],
   "source": [
    "gini"
   ]
  },
  {
   "cell_type": "markdown",
   "metadata": {},
   "source": [
    "### (iv)"
   ]
  },
  {
   "cell_type": "code",
   "execution_count": 79,
   "metadata": {},
   "outputs": [],
   "source": [
    "entropy = {}\n",
    "for i in list(p_i.keys()):\n",
    "    entropy[i] = -np.sum(p_i[i]*np.log(p_i[i]))"
   ]
  },
  {
   "cell_type": "code",
   "execution_count": 80,
   "metadata": {},
   "outputs": [
    {
     "data": {
      "text/plain": [
       "{3: 2.4393846421207335,\n",
       " 2: 2.435360676057178,\n",
       " 4: 2.433564662697935,\n",
       " 5: 2.1916054772948326,\n",
       " 1: 2.2515186653215884}"
      ]
     },
     "execution_count": 80,
     "metadata": {},
     "output_type": "execute_result"
    }
   ],
   "source": [
    "entropy"
   ]
  },
  {
   "cell_type": "markdown",
   "metadata": {},
   "source": [
    "(e) What do the results suggest? Does this make sense in the context of what we know about the problem?"
   ]
  },
  {
   "cell_type": "markdown",
   "metadata": {},
   "source": [
    "your response here\n",
    "\n"
   ]
  },
  {
   "cell_type": "markdown",
   "metadata": {},
   "source": [
    "<div class='exercise'> <b> Problem 2: Clustering Evaluation and Hierarchical Clustering </b> </div>"
   ]
  },
  {
   "cell_type": "markdown",
   "metadata": {},
   "source": [
    "In the previous problem, we examined the results of running k-means with 5 and 14 centroids on the postures data. In this problem, we will investigate various ways of evaluating the quality of a clustering assignment. For all of these questions, you can work with the sample of 2,000 data points obtained in the previous problem.\n",
    "\n",
    "Hint: Use the function `r_factoextra.fviz_nbclust`."
   ]
  },
  {
   "cell_type": "markdown",
   "metadata": {},
   "source": [
    "(a) Use the elbow method to evaluate the best choice of the number of clusters, plotting the total within-cluster variation against the number of clusters, for k-means clustering with $k \\in \\{1,2,...,15\\}.$\n",
    " "
   ]
  },
  {
   "cell_type": "code",
   "execution_count": 59,
   "metadata": {},
   "outputs": [
    {
     "name": "stdout",
     "output_type": "stream",
     "text": [
      "The rpy2.ipython extension is already loaded. To reload it, use:\n",
      "  %reload_ext rpy2.ipython\n"
     ]
    }
   ],
   "source": [
    "%load_ext rpy2.ipython"
   ]
  },
  {
   "cell_type": "code",
   "execution_count": 65,
   "metadata": {},
   "outputs": [
    {
     "ename": "TypeError",
     "evalue": "'rpy2.rinterface.RNULLType' object is not iterable",
     "output_type": "error",
     "traceback": [
      "\u001b[1;31m---------------------------------------------------------------------------\u001b[0m",
      "\u001b[1;31mTypeError\u001b[0m                                 Traceback (most recent call last)",
      "\u001b[1;32m~\\Anaconda3\\envs\\109b\\lib\\site-packages\\IPython\\core\\formatters.py\u001b[0m in \u001b[0;36m__call__\u001b[1;34m(self, obj)\u001b[0m\n\u001b[0;32m    343\u001b[0m             \u001b[0mmethod\u001b[0m \u001b[1;33m=\u001b[0m \u001b[0mget_real_method\u001b[0m\u001b[1;33m(\u001b[0m\u001b[0mobj\u001b[0m\u001b[1;33m,\u001b[0m \u001b[0mself\u001b[0m\u001b[1;33m.\u001b[0m\u001b[0mprint_method\u001b[0m\u001b[1;33m)\u001b[0m\u001b[1;33m\u001b[0m\u001b[1;33m\u001b[0m\u001b[0m\n\u001b[0;32m    344\u001b[0m             \u001b[1;32mif\u001b[0m \u001b[0mmethod\u001b[0m \u001b[1;32mis\u001b[0m \u001b[1;32mnot\u001b[0m \u001b[1;32mNone\u001b[0m\u001b[1;33m:\u001b[0m\u001b[1;33m\u001b[0m\u001b[1;33m\u001b[0m\u001b[0m\n\u001b[1;32m--> 345\u001b[1;33m                 \u001b[1;32mreturn\u001b[0m \u001b[0mmethod\u001b[0m\u001b[1;33m(\u001b[0m\u001b[1;33m)\u001b[0m\u001b[1;33m\u001b[0m\u001b[1;33m\u001b[0m\u001b[0m\n\u001b[0m\u001b[0;32m    346\u001b[0m             \u001b[1;32mreturn\u001b[0m \u001b[1;32mNone\u001b[0m\u001b[1;33m\u001b[0m\u001b[1;33m\u001b[0m\u001b[0m\n\u001b[0;32m    347\u001b[0m         \u001b[1;32melse\u001b[0m\u001b[1;33m:\u001b[0m\u001b[1;33m\u001b[0m\u001b[1;33m\u001b[0m\u001b[0m\n",
      "\u001b[1;32m~\\Anaconda3\\envs\\109b\\lib\\site-packages\\rpy2\\robjects\\vectors.py\u001b[0m in \u001b[0;36m_repr_html_\u001b[1;34m(self, max_items)\u001b[0m\n\u001b[0;32m    680\u001b[0m         \u001b[1;32mfor\u001b[0m \u001b[0me\u001b[0m \u001b[1;32min\u001b[0m \u001b[0mself\u001b[0m\u001b[1;33m.\u001b[0m\u001b[0m_iter_repr\u001b[0m\u001b[1;33m(\u001b[0m\u001b[0mmax_items\u001b[0m\u001b[1;33m=\u001b[0m\u001b[0mmax_items\u001b[0m\u001b[1;33m)\u001b[0m\u001b[1;33m:\u001b[0m\u001b[1;33m\u001b[0m\u001b[1;33m\u001b[0m\u001b[0m\n\u001b[0;32m    681\u001b[0m             \u001b[1;32mif\u001b[0m \u001b[0mhasattr\u001b[0m\u001b[1;33m(\u001b[0m\u001b[0me\u001b[0m\u001b[1;33m,\u001b[0m \u001b[1;34m'_repr_html_'\u001b[0m\u001b[1;33m)\u001b[0m\u001b[1;33m:\u001b[0m\u001b[1;33m\u001b[0m\u001b[1;33m\u001b[0m\u001b[0m\n\u001b[1;32m--> 682\u001b[1;33m                 \u001b[0melements\u001b[0m\u001b[1;33m.\u001b[0m\u001b[0mappend\u001b[0m\u001b[1;33m(\u001b[0m\u001b[0me\u001b[0m\u001b[1;33m.\u001b[0m\u001b[0m_repr_html_\u001b[0m\u001b[1;33m(\u001b[0m\u001b[1;33m)\u001b[0m\u001b[1;33m)\u001b[0m\u001b[1;33m\u001b[0m\u001b[1;33m\u001b[0m\u001b[0m\n\u001b[0m\u001b[0;32m    683\u001b[0m             \u001b[1;32melse\u001b[0m\u001b[1;33m:\u001b[0m\u001b[1;33m\u001b[0m\u001b[1;33m\u001b[0m\u001b[0m\n\u001b[0;32m    684\u001b[0m                 \u001b[0melements\u001b[0m\u001b[1;33m.\u001b[0m\u001b[0mappend\u001b[0m\u001b[1;33m(\u001b[0m\u001b[0me\u001b[0m\u001b[1;33m)\u001b[0m\u001b[1;33m\u001b[0m\u001b[1;33m\u001b[0m\u001b[0m\n",
      "\u001b[1;32m~\\Anaconda3\\envs\\109b\\lib\\site-packages\\rpy2\\robjects\\vectors.py\u001b[0m in \u001b[0;36m_repr_html_\u001b[1;34m(self, max_items)\u001b[0m\n\u001b[0;32m    687\u001b[0m         \u001b[0mnames\u001b[0m \u001b[1;33m=\u001b[0m \u001b[0mlist\u001b[0m\u001b[1;33m(\u001b[0m\u001b[1;33m)\u001b[0m\u001b[1;33m\u001b[0m\u001b[1;33m\u001b[0m\u001b[0m\n\u001b[0;32m    688\u001b[0m         \u001b[1;32mif\u001b[0m \u001b[0mlen\u001b[0m\u001b[1;33m(\u001b[0m\u001b[0mself\u001b[0m\u001b[1;33m)\u001b[0m \u001b[1;33m<=\u001b[0m \u001b[0mmax_items\u001b[0m\u001b[1;33m:\u001b[0m\u001b[1;33m\u001b[0m\u001b[1;33m\u001b[0m\u001b[0m\n\u001b[1;32m--> 689\u001b[1;33m             \u001b[0mnames\u001b[0m\u001b[1;33m.\u001b[0m\u001b[0mextend\u001b[0m\u001b[1;33m(\u001b[0m\u001b[0mself\u001b[0m\u001b[1;33m.\u001b[0m\u001b[0mnames\u001b[0m\u001b[1;33m)\u001b[0m\u001b[1;33m\u001b[0m\u001b[1;33m\u001b[0m\u001b[0m\n\u001b[0m\u001b[0;32m    690\u001b[0m         \u001b[1;32melse\u001b[0m\u001b[1;33m:\u001b[0m\u001b[1;33m\u001b[0m\u001b[1;33m\u001b[0m\u001b[0m\n\u001b[0;32m    691\u001b[0m             \u001b[0mhalf_items\u001b[0m \u001b[1;33m=\u001b[0m \u001b[0mmax_items\u001b[0m \u001b[1;33m//\u001b[0m \u001b[1;36m2\u001b[0m\u001b[1;33m\u001b[0m\u001b[1;33m\u001b[0m\u001b[0m\n",
      "\u001b[1;31mTypeError\u001b[0m: 'rpy2.rinterface.RNULLType' object is not iterable"
     ]
    },
    {
     "data": {
      "text/plain": [
       "R object with classes: ('gg', 'ggplot') mapped to:\n",
       "<ListVector - Python:0x000000FC35447B08 / R:0x000000FC4D9802A8>\n",
       "[DataFrame, ListVector, Environment, ListVector, ..., Environment, Environment, Environment, ListVector]\n",
       "R object with classes: ('gg', 'ggplot') mapped to:\n",
       "<ListVector - Python:0x000000FC35447B08 / R:0x000000FC4D9802A8>\n",
       "[DataFrame, ListVector, Environment, ListVector, ..., Environment, Environment, Environment, ListVector]\n",
       "R object with classes: ('gg', 'ggplot') mapped to:\n",
       "<ListVector - Python:0x000000FC35447B08 / R:0x000000FC4D9802A8>\n",
       "[DataFrame, ListVector, Environment, ListVector, ..., Environment, Environment, Environment, ListVector]\n",
       "  scales: <class 'rpy2.robjects.environments.Environment'>\n",
       "  R object with classes: ('ScalesList', 'ggproto', 'gg') mapped to:\n",
       "<Environment - Python:0x000000FC4C770088 / R:0x000000FC477C6C60>\n",
       "R object with classes: ('gg', 'ggplot') mapped to:\n",
       "<ListVector - Python:0x000000FC35447B08 / R:0x000000FC4D9802A8>\n",
       "[DataFrame, ListVector, Environment, ListVector, ..., Environment, Environment, Environment, ListVector]\n",
       "R object with classes: ('gg', 'ggplot') mapped to:\n",
       "<ListVector - Python:0x000000FC35447B08 / R:0x000000FC4D9802A8>\n",
       "[DataFrame, ListVector, Environment, ListVector, ..., Environment, Environment, Environment, ListVector]\n",
       "  coordinates: <class 'rpy2.robjects.environments.Environment'>\n",
       "  R object with classes: ('CoordCartesian', 'Coord', 'ggproto', 'gg') mapped to:\n",
       "<Environment - Python:0x000000FC4C75BCC8 / R:0x000000FC4EF70B38>\n",
       "  facet: <class 'rpy2.robjects.environments.Environment'>\n",
       "  R object with classes: ('FacetNull', 'Facet', 'ggproto', 'gg') mapped to:\n",
       "<Environment - Python:0x000000FC3E419308 / R:0x000000FC4EEA7D78>\n",
       "  plot_env: <class 'rpy2.robjects.environments.Environment'>\n",
       "  R object with classes: ('environment',) mapped to:\n",
       "<Environment - Python:0x000000FC3E419DC8 / R:0x000000FC4C4CAB78>\n",
       "R object with classes: ('gg', 'ggplot') mapped to:\n",
       "<ListVector - Python:0x000000FC35447B08 / R:0x000000FC4D9802A8>\n",
       "[DataFrame, ListVector, Environment, ListVector, ..., Environment, Environment, Environment, ListVector]"
      ]
     },
     "execution_count": 65,
     "metadata": {},
     "output_type": "execute_result"
    }
   ],
   "source": [
    "#your code here\n",
    "%%R -i r_postures_sample\n",
    "r_factoextra.fviz_nbclust(r_postures_sample, FUNcluster=r_stats.kmeans, method=\"wss\")"
   ]
  },
  {
   "cell_type": "markdown",
   "metadata": {},
   "source": [
    "your response here"
   ]
  },
  {
   "cell_type": "markdown",
   "metadata": {},
   "source": [
    "(b) Use the average silhouette to evaluate the choice of the number of clusters for k-means clustering with $k \\in \\{1,2,...,15\\}$. Plot the results. "
   ]
  },
  {
   "cell_type": "code",
   "execution_count": 13,
   "metadata": {},
   "outputs": [],
   "source": [
    "#your code here\n"
   ]
  },
  {
   "cell_type": "markdown",
   "metadata": {},
   "source": [
    "your response here"
   ]
  },
  {
   "cell_type": "markdown",
   "metadata": {},
   "source": [
    "(c) Use the gap statistic to evaluate the choice of the number of clusters for k-means clustering with $k \\in \\{1,2,..,15\\}$. Plot the results. "
   ]
  },
  {
   "cell_type": "code",
   "execution_count": 14,
   "metadata": {},
   "outputs": [],
   "source": [
    "#your code here "
   ]
  },
  {
   "cell_type": "code",
   "execution_count": 15,
   "metadata": {},
   "outputs": [],
   "source": [
    "#your code here\n"
   ]
  },
  {
   "cell_type": "markdown",
   "metadata": {},
   "source": [
    "your response here"
   ]
  },
  {
   "cell_type": "markdown",
   "metadata": {},
   "source": [
    "(d) After analyzing the plots produced by all three of these measures, discuss the number of clusters that you think is the best fit for this dataset. Defend your answer with evidence from the previous parts of this question, the three graphs produced here, and what you surmise about this dataset."
   ]
  },
  {
   "cell_type": "markdown",
   "metadata": {},
   "source": [
    "your response here"
   ]
  },
  {
   "cell_type": "markdown",
   "metadata": {},
   "source": [
    "(e) Hierarchical clustering. Run agglomerative clustering (using Ward's method), and plot the result using a dendrogram. Interpret the results."
   ]
  },
  {
   "cell_type": "code",
   "execution_count": 16,
   "metadata": {
    "scrolled": false
   },
   "outputs": [],
   "source": [
    "#your code here\n"
   ]
  },
  {
   "cell_type": "markdown",
   "metadata": {},
   "source": [
    "your response here\n",
    "\n"
   ]
  },
  {
   "cell_type": "markdown",
   "metadata": {},
   "source": [
    "<div class='exercise'> <b> Problem 3: Model-Free TD Learning </b> </div>\n",
    "\n",
    "\n",
    "\n",
    "In this assignment we are going to work with OpenAIgym's FrozenLake environment. The details of the environment can be found in the link https://gym.openai.com/envs/FrozenLake-v0/. \n",
    "\n",
    "\n",
    "Winter is here. You and your friends were tossing around a frisbee at the park when you made a wild throw that left the frisbee out in the middle of the lake. The water is mostly frozen, but there are a few holes where the ice has melted. If you step into one of those holes, you'll fall into the freezing water. At this time, there's an international frisbee shortage, so it's absolutely imperative that you navigate across the lake and retrieve the disc. \n",
    "\n",
    "The agent controls the movement of a character in a grid world. Some tiles of the grid are walkable, and others lead to the agent falling into the water. Additionally, the movement direction of the agent is uncertain and only partially depends on the chosen direction. The agent is rewarded for finding a walkable path to a goal tile.\n",
    "\n",
    "The surface is described using a grid like the following:\n",
    "[PP: WOULD IT BETTER TO INCLUDE A DIAGRAM]\n",
    "\n",
    "- S: starting point, safe\n",
    "- F: frozen surface, safe\n",
    "- H: hole, fall to your doom\n",
    "- G: goal, where the frisbee is located\n",
    "\n",
    "SFFF  <br> \n",
    "FHFH <br> \n",
    "FFFH  <br> \n",
    "HFFG <br> \n",
    "\n",
    "Expected actions are Left(0), Right(1), Down(2), Up(3). \n",
    "\n",
    "The episode ends when you reach the goal or fall in a hole. You receive a reward of 1 if you reach the goal, and zero otherwise.\n"
   ]
  },
  {
   "cell_type": "code",
   "execution_count": 17,
   "metadata": {},
   "outputs": [],
   "source": [
    "import gym\n",
    "from gym.envs.registration import register\n",
    "register(id='FrozenLakeNotSlippery-v0',\n",
    "    entry_point='gym.envs.toy_text:FrozenLakeEnv',\n",
    "    kwargs={'map_name' : '4x4', 'is_slippery': False},\n",
    "    max_episode_steps=100,\n",
    "    reward_threshold=0.8196, # optimum = .8196\n",
    ")"
   ]
  },
  {
   "cell_type": "code",
   "execution_count": 18,
   "metadata": {},
   "outputs": [],
   "source": [
    "from gym.envs.registration import register\n",
    "register(\n",
    "    id='FrozenLake8x8NotSlippery-v0',\n",
    "    entry_point='gym.envs.toy_text:FrozenLakeEnv',\n",
    "    kwargs={'map_name' : '8x8', 'is_slippery': False},\n",
    "    max_episode_steps=100,\n",
    "    reward_threshold=0.8196, # optimum = .8196\n",
    ")"
   ]
  },
  {
   "cell_type": "markdown",
   "metadata": {},
   "source": [
    "*hint:* If you receive an error message while registering the above env the second time you run this cell again, ignore the error message or restart the kernel. \n",
    "\n",
    "Throughout the assignment, use only the environments we registered in the previous cells:\n",
    "- `FrozenLake8x8NotSlippery-v0`\n",
    "- `FrozenLakeNotSlippery-v0` \n",
    "\n",
    "Even though the original problem description has slippery environment, we are working in a non-slippery environment. In our environment, if you go right, you only go right whereas in the original environment, if you intend to go right, you can go right, up or down with 1/3 probability.\n",
    "\n"
   ]
  },
  {
   "cell_type": "markdown",
   "metadata": {},
   "source": [
    "### Demo Code to understand OpenAIGym\n",
    "\n",
    "We will look at demo code on how to work with the environment - extremely straightforward. Here we are going to work with a random choice of action just to show you how to sample transitions from the environment. "
   ]
  },
  {
   "cell_type": "code",
   "execution_count": 20,
   "metadata": {},
   "outputs": [
    {
     "name": "stdout",
     "output_type": "stream",
     "text": [
      "16\n",
      "\n",
      "\u001b[41mS\u001b[0mFFF\n",
      "FHFH\n",
      "FFFH\n",
      "HFFG\n",
      "State :  0  Action :  3  State 1 :  0  Reward :  0.0 Done :  False\n",
      "State :  0  Action :  1  State 1 :  4  Reward :  0.0 Done :  False\n",
      "State :  4  Action :  0  State 1 :  4  Reward :  0.0 Done :  False\n",
      "State :  4  Action :  1  State 1 :  8  Reward :  0.0 Done :  False\n",
      "State :  8  Action :  2  State 1 :  9  Reward :  0.0 Done :  False\n",
      "State :  9  Action :  3  State 1 :  5  Reward :  0.0 Done :  True\n",
      "Episode Over\n",
      "Fell into hole with reward  0.0\n"
     ]
    }
   ],
   "source": [
    "import gym\n",
    "import numpy as np\n",
    "\n",
    "\n",
    "#Change environment to FrozenLake8x8 to see grid.\n",
    "env = gym.make('FrozenLakeNotSlippery-v0')\n",
    "#env = gym.make('FrozenLake8x8NotSlippery-v0')\n",
    "\n",
    "print(env.observation_space.n)\n",
    "\n",
    "\n",
    "#Both the grids look like as follows.\n",
    "'''\n",
    "    \"4x4\": [\n",
    "        \"SFFF\",\n",
    "        \"FHFH\",\n",
    "        \"FFFH\",\n",
    "        \"HFFG\"\n",
    "    ],\n",
    "    \"8x8\": [\n",
    "        \"SFFFFFFF\",\n",
    "        \"FFFFFFFF\",\n",
    "        \"FFFHFFFF\",\n",
    "        \"FFFFFHFF\",\n",
    "        \"FFFHFFFF\",\n",
    "        \"FHHFFFHF\",\n",
    "        \"FHFFHFHF\",\n",
    "        \"FFFHFFFG\"\n",
    "    ]'''\n",
    "\n",
    "#env.render() prints the frozenlake with an indicator showing where the agent is. You can use it for debugging.\n",
    "env.render()\n",
    "\n",
    "Q = np.zeros([env.observation_space.n,env.action_space.n])\n",
    "# Set learning parameters\n",
    "################\n",
    "\n",
    "num_episodes = 2000\n",
    "rList = []\n",
    "\n",
    "num_episodes = 1\n",
    "max_iter_per_episode = 10\n",
    "for i in range(num_episodes):\n",
    "    iter = 0\n",
    "            \n",
    "    #Reset environment and get an initial state - should be done at start of each episode.\n",
    "    s = env.reset()\n",
    "    rAll = 0\n",
    "    d = False\n",
    "    j = 0\n",
    "    while iter < max_iter_per_episode:\n",
    "        iter+=1\n",
    "        #Choose an action\n",
    "        a = np.random.choice(np.array([0,1,2,3]))\n",
    "        \n",
    "        # env.step() gives you next state, reward, done(whether the episode is over)\n",
    "        # s1 - new state, r-reward, d-whether you are done or not\n",
    "        s1,r,d,_ = env.step(a)\n",
    "        print('State : ',s, ' Action : ', a, ' State 1 : ', s1, ' Reward : ',r, 'Done : ', d)\n",
    "        \n",
    "        if d:\n",
    "            print('Episode Over')\n",
    "            if r != 1:\n",
    "                print('Fell into hole with reward ', r)            \n",
    "            break\n",
    "        s = s1\n",
    "    "
   ]
  },
  {
   "cell_type": "markdown",
   "metadata": {},
   "source": [
    "**3.1 Define the MDP [8 pts]**\n",
    "\n",
    "1. Define the MDP using the information from the link provided for FrozenLake environment. Use standard notations wherever possible. Defining the MDP usually means that you formally define your state space, action space and reward space, the absorbing states and discounts.\n",
    "\n",
    "2. Also justify why this problem is a MDP (i.e. justify the state representation and its corresponding Markovianity). \n"
   ]
  },
  {
   "cell_type": "markdown",
   "metadata": {},
   "source": [
    "*Your response here* "
   ]
  },
  {
   "cell_type": "markdown",
   "metadata": {},
   "source": [
    "**3.2 Value and Policy Iteration [15 pts]**\n",
    "\n",
    "The aim in this problem is to reach the goal from S to G. Let us assume that we know our transition model (right - one step right, left -one step left, up - one step up, down - one step down. If an action is not possible from a spot, you remain there) In these environments, reaching the goal (G) with fetch us a reward of +1 and terminate the episode. Reaching any Hole (H) would give us 0 reward and terminate the episode.\n",
    "\n",
    "For both the environments (you can find the states of both the environments in the demo code above on the commented lines), do the following.\n",
    "\n",
    "1. Write code to perform **value iteration** (starting from zero value assignment) and then, calculate optimal value function and thus calculate the subsequent policy induced by the value function. Show the value function and policy using heat map and arrow marks (to indicate direction) on each of the 4\\*4 or 8\\*8 grid cells.\n",
    "2. Write code to perform **policy iteration** (starting from a zero policy) and then calculate the optimal policy. Show the same visualizations. Check if the policy matches in both the cases. Check if the value function matches in both the cases. Justify the results found on this comparison.\n",
    "3. Can you try two or three different $\\gamma$ values and also discuss what the impact of $\\gamma$ is on your training.\n"
   ]
  },
  {
   "cell_type": "code",
   "execution_count": 30,
   "metadata": {},
   "outputs": [],
   "source": [
    "## your code here ## \n"
   ]
  },
  {
   "cell_type": "code",
   "execution_count": 31,
   "metadata": {
    "scrolled": false
   },
   "outputs": [],
   "source": [
    "## your code here ### \n"
   ]
  },
  {
   "cell_type": "markdown",
   "metadata": {},
   "source": [
    "*your observations here* \n"
   ]
  },
  {
   "cell_type": "markdown",
   "metadata": {},
   "source": [
    "**3.3 Q-Learning vs SARSA [ALMOST OPTIONAL 2 pts]** \n",
    "\n",
    "For an in-depth understanding of Q-Learning, SARSA and their differences, it will be beneficial to read chapter 6 in this book by Sutton and Barto - http://incompleteideas.net/book/bookdraft2018mar21.pdf\n",
    "\n",
    "1.  Explain the difference between Q-learning and SARSA in your own words. Also, differentiate between on-policy and off-policy learning and categorize these two algorithms accordingly with justification.\n",
    "2. Visualization (for the following questions)\n",
    "    * For each setting of model, environment and hyperparams you run, show us visualizations in a grid format that shows the learned value functions V(s) of all states, optimal policy learned. Also in each visualization plot the F,H,G state grid on the side for easy visualization. \n",
    "    * Separately, plot the moving average of rewards per episode over 100 episodes(You either get a 0 or 1 in each episode and over time near convergence, you should be getting more 1 than 0 and hence moving avg should be close to 1. \n",
    "    * Also plot the norm(L1) of change in your value function from previous episode, again as moving average over 100 episodes - essentially a proxy for the rate of change of value function.\n",
    "3. We are going to experiment with $4*4$ and $8*8$ grid in this problem and implement both Q-Learning and SARSA. Each run of the model (for one setting) should be reasonably quick on a CPU and hence, we are going to run the model over a bunch of param settings. While you can start with any Qtable in practice and the algorithm is guaranteed to converge, for consistency of evaluations in this assignment, initialize your Q-table with all 0s. Let us fix the number of episodes to 2000 and the number of iterations per episode to 100 for $4*4$ grid and 20000 and 800 for $8*8$ grid for comparison consistency across results. Also fix $\\gamma$ to 0.99.  Throughout this HW, we just assume that we are training the agent and it is not in a testing environment and hence, overall rewards collected across all episodes is not so important as long as we explore well and finally learn well about the environment.\n",
    "\n",
    "    * In practice, it makes sense to not have one constant $\\epsilon$ (Remember $\\epsilon$- greedy) and $\\alpha$ throughout the entire training. Think about the impact of the exploration coefficient $\\epsilon$ and the TD-Learning parameter $\\alpha$ and suggest with justification, how you would choose and change these parameters as the agent starts learning in the environment. Experiment with different (2 each - one good and bad schedule. For example, one schedule that does exploration sufficiently as appropriate and another schedule that does not do exploration well.) $\\epsilon$ (Remember $\\epsilon$- greedy) and $\\alpha$ schedules with a qualitative justification of the choice and proceed to discuss the differences you observe between them.\n",
    "  \n",
    "    * In a good hyperparam setting, we expect you to converge to the perfect optimal decision and rewards of close to 1(moving avg. plot) in all cells in the $4*4$ grid. For the $8*8$ grid and good $\\epsilon. \\gamma$, we expect to see the right policy decision in about atleast 40+ non-absorbing(not H or G) states. We also expect the reward(moving avg plot) to surpass 0.8. In sub-optimal hyperparam settings(which you are going to implement and discuss in the next point), we expect to see comparatively worse results. Report the number of states in which your policy matches the optimal policy and please explain why it is hard (not impossible) to get the optimal policy in all 53 non-absorbing states. <b>KUDOS TO THOSE THAT GOT THE LEARNED POLICY TO BE FULLY OPTIMAL</b> (Hint:\"You dont know the things that you dont seek\")\n",
    "       \n",
    "    * Demonstrate and discuss whether you obtained similar value function and policy estimates from the value and policy iteration solutions.\n",
    "    \n",
    "    * For the $8*8$ grid, choose one algo and hyperparam setting and try implementing with a lower $\\gamma$ ,something like 0.6 and report what you observe (For this question, you do not need to show visualizations/plots, just a discussion should suffice).\n",
    "    \n",
    "    * In this setup, does Q-Learning and SARSA produce different results - Justify ? Can you explain and/or imagine circumstances(characteristics of your MDP world) under which both produce a.) similar and b.) different results?\n",
    "    \n",
    "<b>Overall deliverable</b> - 3 plots (policy+ V visualization, rewards, change in L1 norm of V) per exercise $*$ 2 algos $*$ 2 environments $*$ 4(2 each for $\\epsilon, \\gamma$) learning schedules- named appropriately to identify easily, along with a discussion wherever appropriate. \n",
    "\n",
    "<b> Note </b> - Even though there are a lot of experiments here, each experiment runs pretty fast the non-plotting code entails just 20 odd lines for both Q-learning and SARSA put together. Since there are multiple discussion points, please give some title (in bold) to each of your discussions so that it is easy to connect what discussion points we are talking about. Title all your plots with appropriate naming along with specifying all hyperparams needed to understand the plot without looking at the code.\n",
    "\n",
    "\n",
    "\n"
   ]
  },
  {
   "cell_type": "code",
   "execution_count": null,
   "metadata": {},
   "outputs": [],
   "source": []
  }
 ],
 "metadata": {
  "kernelspec": {
   "display_name": "Python 3",
   "language": "python",
   "name": "python3"
  },
  "language_info": {
   "codemirror_mode": {
    "name": "ipython",
    "version": 3
   },
   "file_extension": ".py",
   "mimetype": "text/x-python",
   "name": "python",
   "nbconvert_exporter": "python",
   "pygments_lexer": "ipython3",
   "version": "3.6.8"
  }
 },
 "nbformat": 4,
 "nbformat_minor": 2
}
